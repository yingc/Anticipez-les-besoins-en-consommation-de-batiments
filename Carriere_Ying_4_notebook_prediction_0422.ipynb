{
 "cells": [
  {
   "cell_type": "code",
   "execution_count": 87,
   "metadata": {},
   "outputs": [],
   "source": [
    "import pandas as pd\n",
    "import numpy as np\n",
    "import matplotlib.pyplot as plt\n",
    "import seaborn as sns\n",
    "%matplotlib inline"
   ]
  },
  {
   "cell_type": "markdown",
   "metadata": {},
   "source": [
    "https://www.energystar.gov/buildings/benchmark/analyze_benchmarking_results"
   ]
  },
  {
   "cell_type": "markdown",
   "metadata": {},
   "source": [
    "# Partie 1 : Inspection des données & Nettoyages des données"
   ]
  },
  {
   "cell_type": "markdown",
   "metadata": {},
   "source": [
    "<span style=\"color: #008080\">@ Télécharger les fichiers de format csv et puis les palcent dans des dataframes nommés séparemment `loandown_2015` et `loandown_2016`. Les colonnes du fichier sont uniquement séparées par le virgule `,`. </span> "
   ]
  },
  {
   "cell_type": "code",
   "execution_count": 88,
   "metadata": {},
   "outputs": [],
   "source": [
    "loandown_2015 = pd.read_csv('2015-building-energy-benchmarking.csv', sep=',',low_memory=False)\n",
    "loandown_2016 = pd.read_csv('2016-building-energy-benchmarking.csv', sep=',',low_memory=False)"
   ]
  },
  {
   "cell_type": "markdown",
   "metadata": {},
   "source": [
    "<span style=\"color: #008080\"> @ Nettoytage : On sépare la variable `Location` de `loandown_2015` en trois nouveaux colonnes : `Latitude, Longitude, Human_adress`.</span>"
   ]
  },
  {
   "cell_type": "code",
   "execution_count": 89,
   "metadata": {},
   "outputs": [
    {
     "data": {
      "text/plain": [
       "'{\\'latitude\\': \\'47.61219025\\', \\'longitude\\': \\'-122.33799744\\', \\'human_address\\': \\'{\"address\": \"405 OLIVE WAY\", \"city\": \"SEATTLE\", \"state\": \"WA\", \"zip\": \"98101\"}\\'}'"
      ]
     },
     "execution_count": 89,
     "metadata": {},
     "output_type": "execute_result"
    }
   ],
   "source": [
    "loandown_2015['Location'][0]"
   ]
  },
  {
   "cell_type": "code",
   "execution_count": 90,
   "metadata": {},
   "outputs": [],
   "source": [
    "import json\n",
    "import ast\n",
    "\n",
    "\n",
    "data_2015= pd.DataFrame()\n",
    "for idx, row in loandown_2015.iterrows():\n",
    "\n",
    "    data_dict = ast.literal_eval(row['Location'])\n",
    "    lat = data_dict['latitude']\n",
    "    lon = data_dict['longitude']\n",
    "    human_address = data_dict['human_address'] \n",
    "\n",
    "    normalize = pd.Series(json.loads(data_dict['human_address']))\n",
    "    row = row.drop('Location')\n",
    "\n",
    "    cols = list(row.index) + ['Latitude', 'Longitude', 'Human_adress'] + list(normalize.index)\n",
    "    temp_df = pd.DataFrame([list(row) + [lat, lon, human_address] + list(normalize)], columns = cols )\n",
    "    data_2015 = data_2015.append(temp_df).reset_index(drop=True)"
   ]
  },
  {
   "cell_type": "markdown",
   "metadata": {},
   "source": [
    "<span style=\"color: #008080\"> @ Nettoyage : On s'intéresse de près aux émmisions des bâtiments non destinés à l'habitation: `NON RESIDENTIEL` \n",
    "- On stock ces bâtiments dans un dataframe, on le nomme `data_2015`.</span>"
   ]
  },
  {
   "cell_type": "code",
   "execution_count": 91,
   "metadata": {},
   "outputs": [],
   "source": [
    "data_2015=data_2015.loc[data_2015['BuildingType'].isin({'NonResidential','SPS-District K-12','Nonresidential COS'})] "
   ]
  },
  {
   "cell_type": "code",
   "execution_count": 92,
   "metadata": {},
   "outputs": [
    {
     "data": {
      "text/plain": [
       "(1628, 53)"
      ]
     },
     "execution_count": 92,
     "metadata": {},
     "output_type": "execute_result"
    }
   ],
   "source": [
    "data_2015.shape"
   ]
  },
  {
   "cell_type": "markdown",
   "metadata": {},
   "source": [
    "<span style=\"color: #008080\"> @ Nettoyage : On s'intéresse de près aux émmisions des bâtiments non destinés à l'habitation: `NON RESIDENTIEL` \n",
    "- On stock ces bâtiments dans un dataframe, on le nomme `data_2016`.</span>"
   ]
  },
  {
   "cell_type": "code",
   "execution_count": 93,
   "metadata": {},
   "outputs": [
    {
     "data": {
      "text/plain": [
       "(1644, 46)"
      ]
     },
     "execution_count": 93,
     "metadata": {},
     "output_type": "execute_result"
    }
   ],
   "source": [
    "data_2016=loandown_2016.loc[loandown_2016['BuildingType'].isin({'NonResidential','SPS-District K-12','Nonresidential COS','Nonresidential WA'})] \n",
    "data_2016.shape"
   ]
  },
  {
   "cell_type": "markdown",
   "metadata": {},
   "source": [
    "<span style=\"color: #008080\"> @ Nettoyage : On supprime les lignes de valeurs \"Low outlier et Hign outlier\" dans la variable `Outlier` des datasets `data_2015` et `data_2016`.  </span>"
   ]
  },
  {
   "cell_type": "code",
   "execution_count": 94,
   "metadata": {},
   "outputs": [],
   "source": [
    "data_2015=data_2015.drop((data_2015.loc[data_2015['Outlier']=='Low Outlier']).index)\n",
    "data_2015=data_2015.drop((data_2015.loc[data_2015['Outlier']=='High Outlier']).index)\n",
    "data_2016=data_2016.drop((data_2016.loc[data_2016['Outlier']=='Low outlier']).index)\n",
    "data_2016=data_2016.drop((data_2016.loc[data_2016['Outlier']=='High outlier']).index)"
   ]
  },
  {
   "cell_type": "markdown",
   "metadata": {},
   "source": [
    "<span style=\"color: #FF00FF\">  @ Filtrage : On choisit les variables ce qui nous s'intéresse pour prédir `les émissions de CO²` et `la consommation total d'énergie`.\n",
    "- Définiton des variables : https://www.opendatanetwork.com/dataset/data.seattle.gov/2bpz-gwpy\n",
    "- 'GHGEmissions(MetricTonsCO2e)'\n",
    "- 'SiteEnergyUse(kBtu)' : La quantité annuelle d'énergie consommée par la propriété à partir de toutes les sources d'énergie, ajustée à ce que la propriété aurait consommé dans des conditions météorologiques moyennes sur 30 ans.\n",
    "\n",
    "\n",
    " </span>"
   ]
  },
  {
   "cell_type": "code",
   "execution_count": 95,
   "metadata": {},
   "outputs": [],
   "source": [
    "data_2015=data_2015[[ \n",
    "    'BuildingType',\n",
    "    'ListOfAllPropertyUseTypes',\n",
    "    'YearBuilt',\n",
    "    'NumberofBuildings',\n",
    "    'NumberofFloors',\n",
    "    'TaxParcelIdentificationNumber',\n",
    "    'CouncilDistrictCode',\n",
    "    'Neighborhood',\n",
    "    'Latitude',\n",
    "    'Longitude',\n",
    "    'PropertyGFATotal',\n",
    "    'PropertyGFAParking',\n",
    "    'PropertyGFABuilding(s)',\n",
    "    'GHGEmissions(MetricTonsCO2e)',\n",
    "    'ENERGYSTARScore',\n",
    "    'SiteEnergyUse(kBtu)',\n",
    "    'SteamUse(kBtu)',\n",
    "    'Electricity(kBtu)',\n",
    "    'NaturalGas(kBtu)',\n",
    "    'OtherFuelUse(kBtu)']] "
   ]
  },
  {
   "cell_type": "code",
   "execution_count": 96,
   "metadata": {},
   "outputs": [],
   "source": [
    "data_2016=data_2016.rename(columns={'TotalGHGEmissions': 'GHGEmissions(MetricTonsCO2e)'})"
   ]
  },
  {
   "cell_type": "code",
   "execution_count": 97,
   "metadata": {},
   "outputs": [],
   "source": [
    "data_2016=data_2016[[ \n",
    "    'BuildingType',\n",
    "    'ListOfAllPropertyUseTypes',\n",
    "    'YearBuilt',\n",
    "    'NumberofBuildings',\n",
    "    'NumberofFloors',\n",
    "    'TaxParcelIdentificationNumber',\n",
    "    'CouncilDistrictCode',\n",
    "    'Neighborhood',\n",
    "    'Latitude',\n",
    "    'Longitude',\n",
    "    'PropertyGFATotal',\n",
    "    'PropertyGFAParking',\n",
    "    'PropertyGFABuilding(s)',\n",
    "    'GHGEmissions(MetricTonsCO2e)',\n",
    "    'ENERGYSTARScore',\n",
    "    'SiteEnergyUse(kBtu)',\n",
    "    'SteamUse(kBtu)',\n",
    "    'Electricity(kBtu)',\n",
    "    'NaturalGas(kBtu)']] "
   ]
  },
  {
   "cell_type": "markdown",
   "metadata": {},
   "source": [
    "<span style=\"color: #008080\"> @ Création du DataFrame de données\n",
    "-\n",
    "- On fusionne les deux datasets `data_2015` et `data_2016` et les assigne à `data`.</span>"
   ]
  },
  {
   "cell_type": "code",
   "execution_count": 98,
   "metadata": {},
   "outputs": [
    {
     "name": "stdout",
     "output_type": "stream",
     "text": [
      "(3224, 20)\n"
     ]
    }
   ],
   "source": [
    "frames =[data_2015,data_2016] \n",
    "data = pd.concat(frames, ignore_index=True)\n",
    "print(data.shape)"
   ]
  },
  {
   "cell_type": "markdown",
   "metadata": {},
   "source": [
    "<span style=\"color: #008080\"> @ Pré-traitement des données\n",
    "-\n",
    "- On transforme les varaibles `SteamUse(kBtu), Electricity(kBtu), NaturalGas(kBtu) et OtherFuelUse(kBtu)` en pourcentage. Puit on change les noms de ces variables.</span>"
   ]
  },
  {
   "cell_type": "code",
   "execution_count": 99,
   "metadata": {},
   "outputs": [],
   "source": [
    "data['SteamUse(kBtu)']=data['SteamUse(kBtu)']/data['SiteEnergyUse(kBtu)']\n",
    "data['Electricity(kBtu)'] = data['Electricity(kBtu)']/data['SiteEnergyUse(kBtu)']\n",
    "data['NaturalGas(kBtu)'] = data['NaturalGas(kBtu)']/data['SiteEnergyUse(kBtu)']\n",
    "data['OtherFuelUse(kBtu)'] = data['OtherFuelUse(kBtu)']/data['SiteEnergyUse(kBtu)']"
   ]
  },
  {
   "cell_type": "code",
   "execution_count": 100,
   "metadata": {},
   "outputs": [],
   "source": [
    "data=data.rename(columns={'SteamUse(kBtu)': 'SteamUse(percentage)','Electricity(kBtu)':'Electricity(percentage)','NaturalGas(kBtu)':'NaturalGas(percentage)','OtherFuelUse(kBtu)':'OtherFuelUse(percentage)'})"
   ]
  },
  {
   "cell_type": "markdown",
   "metadata": {},
   "source": [
    "<span style=\"color: #008080\"> @ NAN : Remplacer les valeurs manquantede de la colonne `OtherFuelUse(percentage)` par `0`.  </span>"
   ]
  },
  {
   "cell_type": "code",
   "execution_count": 101,
   "metadata": {},
   "outputs": [],
   "source": [
    "data.loc[data['OtherFuelUse(percentage)'].isna()]=0"
   ]
  },
  {
   "cell_type": "markdown",
   "metadata": {},
   "source": [
    "<span style=\"color: #008080\"> @ NANs : On supprimer  toutes les lignes qui ne contient que les Nan dans la colonne `ENERGYSTARScore`, `ListOfAllPropertyUseTypes` et `NumberofFloors`. </span>"
   ]
  },
  {
   "cell_type": "code",
   "execution_count": 102,
   "metadata": {},
   "outputs": [
    {
     "name": "stdout",
     "output_type": "stream",
     "text": [
      "La taille de dataset data : (2722, 20)\n",
      "La taille de dataset data : (2675, 20)\n",
      "La taille de dataset data : (2672, 20)\n"
     ]
    }
   ],
   "source": [
    "line_with_nan = ['ENERGYSTARScore','ListOfAllPropertyUseTypes','NumberofFloors']\n",
    "\n",
    "for col in line_with_nan:\n",
    "    index_with_nan = data.index[data[col].isnull()]\n",
    "    data.drop(index_with_nan,axis=0, inplace=True);\n",
    "    print(\"La taille de dataset data :\", data.shape)"
   ]
  },
  {
   "cell_type": "markdown",
   "metadata": {},
   "source": [
    "<span style=\"color: #008080\"> @ Convertir : On convetit la variable catégorielle `CouncilDistrictCode` en variables indicatrices.</span>"
   ]
  },
  {
   "cell_type": "code",
   "execution_count": 103,
   "metadata": {},
   "outputs": [],
   "source": [
    "data = pd.get_dummies(data, columns=['CouncilDistrictCode'],drop_first= True)"
   ]
  },
  {
   "cell_type": "markdown",
   "metadata": {},
   "source": [
    "<span style=\"color: #008080\"> @ Nettoyage des données : On supprime les lignes qui ont des valeurs abérrantes : dans les colonnes `PropertyGFAParking`et `PropertyGFABuilding(s)`.\n",
    "</span>"
   ]
  },
  {
   "cell_type": "code",
   "execution_count": 104,
   "metadata": {},
   "outputs": [
    {
     "name": "stderr",
     "output_type": "stream",
     "text": [
      "/tmp/ipykernel_30695/1954599033.py:2: FutureWarning: In a future version of pandas all arguments of DataFrame.drop except for the argument 'labels' will be keyword-only\n",
      "  data.drop(index_with_aberrant,0, inplace=True)\n",
      "/tmp/ipykernel_30695/1954599033.py:4: FutureWarning: In a future version of pandas all arguments of DataFrame.drop except for the argument 'labels' will be keyword-only\n",
      "  data.drop(index_with_aberrant,0, inplace=True)\n"
     ]
    }
   ],
   "source": [
    "index_with_aberrant = data.index[data['PropertyGFAParking']==-2]\n",
    "data.drop(index_with_aberrant,0, inplace=True)\n",
    "index_with_aberrant = data.index[data['PropertyGFABuilding(s)']==-43310]\n",
    "data.drop(index_with_aberrant,0, inplace=True)"
   ]
  },
  {
   "cell_type": "markdown",
   "metadata": {},
   "source": [
    "<span style=\"color: #008080\"> @ Nettoyage des données : Supprimer les lignes ne contient que les 0 :\n",
    "</span>"
   ]
  },
  {
   "cell_type": "code",
   "execution_count": 105,
   "metadata": {},
   "outputs": [],
   "source": [
    "features_numeriques = [ 'PropertyGFATotal',\n",
    "       'PropertyGFAParking', 'PropertyGFABuilding(s)',\n",
    "       'GHGEmissions(MetricTonsCO2e)', 'ENERGYSTARScore',\n",
    "       'SiteEnergyUse(kBtu)', 'SteamUse(percentage)',\n",
    "       'Electricity(percentage)', 'NaturalGas(percentage)',\n",
    "       'OtherFuelUse(percentage)']\n",
    "ligne_nulle= data[features_numeriques]"
   ]
  },
  {
   "cell_type": "code",
   "execution_count": 106,
   "metadata": {},
   "outputs": [
    {
     "name": "stdout",
     "output_type": "stream",
     "text": [
      "1634\n"
     ]
    }
   ],
   "source": [
    "index_0= np.where(~ligne_nulle.any(axis=1))[0]\n",
    "print(len(index_0))"
   ]
  },
  {
   "cell_type": "code",
   "execution_count": 107,
   "metadata": {},
   "outputs": [],
   "source": [
    "index_0 = data.iloc[index_0, :].index\n",
    "data.drop(index_0, axis=0, inplace= True)"
   ]
  },
  {
   "cell_type": "code",
   "execution_count": 108,
   "metadata": {},
   "outputs": [
    {
     "data": {
      "text/plain": [
       "(1036, 26)"
      ]
     },
     "execution_count": 108,
     "metadata": {},
     "output_type": "execute_result"
    }
   ],
   "source": [
    "data.shape"
   ]
  },
  {
   "cell_type": "markdown",
   "metadata": {},
   "source": [
    "# Partie 2 : Analyse exploratoire des données"
   ]
  },
  {
   "cell_type": "markdown",
   "metadata": {},
   "source": [
    "<span style=\"color: #008080\"> @ On applique une échelle logarithmique aux targets : `SiteEnergyUse(kBtu)` et `GHGEmissions(MetricTonsCO2e)`. </span>"
   ]
  },
  {
   "cell_type": "code",
   "execution_count": 109,
   "metadata": {},
   "outputs": [],
   "source": [
    "from math import sqrt, log\n",
    "data['LGHGEmissions(MetricTonsCO2e)'] = data['GHGEmissions(MetricTonsCO2e)'].map(lambda x: log(x+1))\n",
    "data['LSiteEnergyUse(kBtu)'] = data['SiteEnergyUse(kBtu)'].map(lambda x: log(x+1))\n",
    "del data['GHGEmissions(MetricTonsCO2e)']\n",
    "del data['SiteEnergyUse(kBtu)']"
   ]
  },
  {
   "cell_type": "markdown",
   "metadata": {},
   "source": [
    "<span>  On liste toutes les variables que l'on va utliser dans les modèles, dans une liste `features_usefuls`."
   ]
  },
  {
   "cell_type": "code",
   "execution_count": 110,
   "metadata": {},
   "outputs": [],
   "source": [
    "features_usefuls = ['YearBuilt', 'NumberofBuildings', 'NumberofFloors',        \n",
    "                    'Latitude', 'Longitude', 'PropertyGFATotal',\n",
    "                    'PropertyGFAParking', 'PropertyGFABuilding(s)',\n",
    "                    'ENERGYSTARScore',\n",
    "                    'SteamUse(percentage)','Electricity(percentage)', \n",
    "                    'NaturalGas(percentage)','OtherFuelUse(percentage)', \n",
    "                    'CouncilDistrictCode_1', 'CouncilDistrictCode_2', \n",
    "                    'CouncilDistrictCode_3', 'CouncilDistrictCode_4', \n",
    "                    'CouncilDistrictCode_5', 'CouncilDistrictCode_6',\n",
    "                    'CouncilDistrictCode_7']"
   ]
  },
  {
   "cell_type": "markdown",
   "metadata": {},
   "source": [
    "<span style=\"color: #008080\"> @ `Standardiser` les données : On met les données à la même échelle avant d'appliquer le transformer `VarianceThreshold`  : </span>"
   ]
  },
  {
   "cell_type": "code",
   "execution_count": 111,
   "metadata": {},
   "outputs": [],
   "source": [
    "from sklearn.preprocessing import StandardScaler \n",
    "std_scaler = StandardScaler()  \n",
    "std_scaler.fit(data[features_usefuls])  \n",
    " \n",
    "data[features_usefuls] = std_scaler.transform(data[features_usefuls])  "
   ]
  },
  {
   "cell_type": "markdown",
   "metadata": {},
   "source": [
    "# Partie 3 : Préparation des variables pour le modèle"
   ]
  },
  {
   "cell_type": "markdown",
   "metadata": {},
   "source": [
    "<span style=\"color: #008080\"> @ Création des variables X avec `EnergyStarScore` et y. </span>"
   ]
  },
  {
   "cell_type": "code",
   "execution_count": 112,
   "metadata": {},
   "outputs": [],
   "source": [
    "y_co2 = data['LGHGEmissions(MetricTonsCO2e)']"
   ]
  },
  {
   "cell_type": "code",
   "execution_count": 113,
   "metadata": {},
   "outputs": [],
   "source": [
    "X_co2_energyStar = data[['YearBuilt', 'NumberofBuildings', 'NumberofFloors', \n",
    "              'Latitude', 'Longitude', \n",
    "              'PropertyGFATotal', 'PropertyGFAParking','PropertyGFABuilding(s)', \n",
    "              'ENERGYSTARScore',\n",
    "              'SteamUse(percentage)', 'Electricity(percentage)',\n",
    "              'NaturalGas(percentage)', 'OtherFuelUse(percentage)',\n",
    "              'CouncilDistrictCode_1', 'CouncilDistrictCode_2',\n",
    "              'CouncilDistrictCode_3', 'CouncilDistrictCode_4',\n",
    "              'CouncilDistrictCode_5', 'CouncilDistrictCode_6',\n",
    "              'CouncilDistrictCode_7']]   \n"
   ]
  },
  {
   "cell_type": "markdown",
   "metadata": {},
   "source": [
    "<span style=\"color: #008080\"> @ On sépare ensuite le jeu de donées en entraînement set et test set.\n",
    "- Le jeu de test contiendra 30% des données. </span>"
   ]
  },
  {
   "cell_type": "code",
   "execution_count": 135,
   "metadata": {},
   "outputs": [
    {
     "name": "stdout",
     "output_type": "stream",
     "text": [
      "(725, 20) (311, 20)\n"
     ]
    }
   ],
   "source": [
    "from sklearn.model_selection import train_test_split\n",
    "X_train, X_test, y_train, y_test = train_test_split(X_co2_energyStar,y_co2, test_size = 0.3)\n",
    "print(X_train.shape, X_test.shape)"
   ]
  },
  {
   "cell_type": "markdown",
   "metadata": {},
   "source": [
    "# Partie 4 : Les modèles de prédiction d'émission de CO2"
   ]
  },
  {
   "cell_type": "markdown",
   "metadata": {},
   "source": [
    "<span style=\"color: #008080\"> @ Dummy Regressor \n",
    "-\n",
    "- Création d'une baseline comme la référence de comparaison\n",
    " </span>"
   ]
  },
  {
   "cell_type": "code",
   "execution_count": 140,
   "metadata": {},
   "outputs": [
    {
     "name": "stdout",
     "output_type": "stream",
     "text": [
      "baseline_RMSE = 1.389376, \n",
      "baseline_r2 = -0.007242853690521134\n",
      "RMSE_normal = 829.1857564807771\n"
     ]
    }
   ],
   "source": [
    "from sklearn.dummy import DummyRegressor\n",
    "from sklearn.metrics import r2_score, mean_squared_error\n",
    "from sklearn import linear_model\n",
    "dummy_regr = DummyRegressor(strategy=\"mean\")\n",
    "dummy_regr.fit(X_train, y_train)\n",
    "\n",
    "# Prévision de l'échantillon de test\n",
    "predDummy = dummy_regr.predict(X_test)\n",
    "\n",
    "baseline_RMSE = np.sqrt(mean_squared_error(y_test, predDummy) )\n",
    "baseline_r2 = r2_score(y_test, predDummy)\n",
    "print(\"baseline_RMSE = %f, \\nbaseline_r2 = %s\"% (baseline_RMSE, baseline_r2))  \n",
    "print(\"RMSE_normal = %s\" % (np.sqrt(mean_squared_error(np.exp(y_test), np.exp(predDummy)))))"
   ]
  },
  {
   "cell_type": "markdown",
   "metadata": {},
   "source": [
    "<span style=\"color: #008080\"> @ Modèles linéaires\n",
    "-\n",
    "- Création du modèle\n",
    "- Entraînement du modèle\n",
    "- Evaluation du modèle\n",
    " </span>"
   ]
  },
  {
   "cell_type": "code",
   "execution_count": 137,
   "metadata": {},
   "outputs": [
    {
     "name": "stdout",
     "output_type": "stream",
     "text": [
      "=== Sans Régularisation ===\n",
      "Weights: \n",
      " [ 1.88487220e-01 -1.49137214e-02 -8.06413457e-02  1.21978776e-01\n",
      "  1.40478169e-01  3.82344555e-01  7.99407537e-03  4.41860078e-01\n",
      " -2.80299562e-01  4.83372360e-01  3.01839656e-01  1.00235223e+00\n",
      " -2.50417441e-02  2.99301858e-02 -9.99992760e-02 -8.16058546e-04\n",
      " -8.41719774e-02 -7.73257700e-02  2.16940594e-02  1.61777857e-01]\n",
      "\n",
      "=== La performnce du modèle : Linéaire régression ===\n",
      "R2 = 0.6420106489949692\n",
      "RMSE = 0.8283001014580622\n"
     ]
    }
   ],
   "source": [
    "from sklearn import linear_model\n",
    "\n",
    "# On crée un modèle de régression linéaire\n",
    "regLin = linear_model.LinearRegression()\n",
    "\n",
    "# On entraîne ce modèle sur les données d'entrainement\n",
    "regLin.fit(X_train,y_train)\n",
    "\n",
    "# Prévision de l'échantillon de test\n",
    "predLR = regLin.predict(X_test)\n",
    "\n",
    "print(\"=== Sans Régularisation ===\")\n",
    "print(\"Weights: \\n\", regLin.coef_)\n",
    "\n",
    "\n",
    "print(\"\\n=== La performnce du modèle : Linéaire régression ===\")\n",
    "print('R2 = {}'.format(r2_score( y_test, predLR)))\n",
    "print(\"RMSE = {}\".format(np.sqrt(mean_squared_error(y_test, predLR) )))  # la racine carrée d'erreur quadratique moyenne"
   ]
  },
  {
   "cell_type": "markdown",
   "metadata": {},
   "source": [
    "<span style=\"color: #FF00FF\"> @ Ridge : \n",
    "-\n",
    "- Création du modèle : Application de la régression `ridge` avec 50 paramètres.\n",
    "- Entraînement du modèle : On effectue notre différentes régressions ridge avec les différents hyperparamètres. \n",
    "- Evaluation du modèle : On teste un certain nombre d'hyperparamètres `alphas` pour appliquer le `ridge`; \n",
    "</span>"
   ]
  },
  {
   "cell_type": "code",
   "execution_count": 138,
   "metadata": {},
   "outputs": [],
   "source": [
    "from sklearn.linear_model import Ridge\n",
    "n_alphas = 50\n",
    "alphas = np.logspace(-5, 8, n_alphas) # l'échelle logarithmique obenue avec logspace\n",
    "ridge = linear_model.Ridge()\n",
    "\n",
    "coefs = []\n",
    "errors = []\n",
    "r2s = []\n",
    "for a in alphas:\n",
    "    ridge.set_params(alpha=a)\n",
    "    ridge.fit(X_train, y_train)\n",
    "    coefs.append(ridge.coef_)\n",
    "    errors.append(np.sqrt(mean_squared_error(y_test, ridge.predict(X_test))))\n",
    "    r2s.append(r2_score(y_test, ridge.predict(X_test))) #####!!!!!!!"
   ]
  },
  {
   "cell_type": "markdown",
   "metadata": {},
   "source": [
    "<span style=\"color: #FF00FF\"> @ Ridge :  \n",
    "-\n",
    "- On affiche `la valeur de l'erreur` la plus petite  à l'aide de la fonction `argmin`;\n",
    "</span>"
   ]
  },
  {
   "cell_type": "code",
   "execution_count": 139,
   "metadata": {},
   "outputs": [
    {
     "name": "stdout",
     "output_type": "stream",
     "text": [
      "=== Régularisation Ridge ===\n",
      "Weights: \n",
      " [ 0.18203182 -0.01484931 -0.03760354  0.07657097  0.11595644  0.36054519\n",
      "  0.01530684  0.41462506 -0.268261    0.25598018 -0.36284513  0.32413262\n",
      " -0.03761642  0.00678974 -0.11065147  0.00332218 -0.06547768 -0.04541745\n",
      "  0.02495075  0.14879201]\n",
      "Alphas associée à l'erreur la plus petite erreur :  23.29951810515372\n",
      "\n",
      "=== La performnce du modèle : Régression Ridge ===\n",
      "R2 = 0.6444175262434343\n",
      "RMSE = 0.8255109417989152\n"
     ]
    }
   ],
   "source": [
    "print(\"=== Régularisation Ridge ===\")\n",
    "print(\"Weights: \\n\", coefs[np.argmin(errors)])\n",
    "print(\"Alphas associée à l'erreur la plus petite erreur : \", alphas[np.argmin(errors)])\n",
    "\n",
    "print(\"\\n=== La performnce du modèle : Régression Ridge ===\")\n",
    "print('R2 = {}'.format(r2s[np.argmin(errors)]))\n",
    "print(\"RMSE = {}\".format(errors[np.argmin(errors)]) )  # la racine carrée d'erreur quadratique moyenne"
   ]
  },
  {
   "cell_type": "markdown",
   "metadata": {},
   "source": [
    "<span style=\"color: #FF00FF\"> @ Ridge : `GridSearchCV`\n",
    "-\n",
    "- Créatoin du modèle\n",
    "- Performence du modèle\n",
    "</span>\n"
   ]
  },
  {
   "cell_type": "code",
   "execution_count": 119,
   "metadata": {},
   "outputs": [
    {
     "name": "stdout",
     "output_type": "stream",
     "text": [
      "alpha = 23.29951810515372\n",
      "\n",
      "=== La performnce du modèle : Régression Ridge avec GridSearchCV ===\n",
      "R2 = 0.6448464969802487\n",
      "RMSE = 0.862448164160441\n"
     ]
    }
   ],
   "source": [
    "from sklearn.model_selection import GridSearchCV\n",
    "# grille de valeurs du paramètre alpha à optimiser\n",
    "n_alphas = 50\n",
    "alphas = np.logspace(-5, 8, n_alphas).tolist()\n",
    "param=[{\"alpha\":alphas}]\n",
    "\n",
    "regRidge = GridSearchCV(linear_model.Ridge(), param,cv=5,n_jobs=-1)\n",
    "regRidgeOpt=regRidge.fit(X_train, y_train)\n",
    "\n",
    "# paramètre optimal\n",
    "print(\"alpha = {}\".format(regRidgeOpt.best_params_['alpha']))\n",
    "\n",
    "# Prévision de l'échantillon de test\n",
    "predRidgeOpt = regRidgeOpt.predict(X_test)\n",
    "\n",
    "# Performence du modèle\n",
    "print(\"\\n=== La performnce du modèle : Régression Ridge avec GridSearchCV ===\")\n",
    "print(\"R2 =\",r2_score(y_test,predRidgeOpt))\n",
    "print(\"RMSE =\",np.sqrt(mean_squared_error(y_test,predRidgeOpt)))"
   ]
  },
  {
   "cell_type": "markdown",
   "metadata": {},
   "source": [
    "<span style=\"color: #008080\"> @ Lasso :\n",
    "-\n",
    " Application de la régression `Lasso`\n",
    "- On teste aussi un certain nombre d'hyperparamètres pour appliquer le lasso </span>"
   ]
  },
  {
   "cell_type": "code",
   "execution_count": 120,
   "metadata": {},
   "outputs": [
    {
     "name": "stderr",
     "output_type": "stream",
     "text": [
      "/home/ying/.local/lib/python3.8/site-packages/sklearn/linear_model/_coordinate_descent.py:647: ConvergenceWarning: Objective did not converge. You might want to increase the number of iterations, check the scale of the features or consider increasing regularisation. Duality gap: 1.328e+01, tolerance: 1.313e-01\n",
      "  model = cd_fast.enet_coordinate_descent(\n",
      "/home/ying/.local/lib/python3.8/site-packages/sklearn/linear_model/_coordinate_descent.py:647: ConvergenceWarning: Objective did not converge. You might want to increase the number of iterations, check the scale of the features or consider increasing regularisation. Duality gap: 1.335e+01, tolerance: 1.313e-01\n",
      "  model = cd_fast.enet_coordinate_descent(\n",
      "/home/ying/.local/lib/python3.8/site-packages/sklearn/linear_model/_coordinate_descent.py:647: ConvergenceWarning: Objective did not converge. You might want to increase the number of iterations, check the scale of the features or consider increasing regularisation. Duality gap: 1.341e+01, tolerance: 1.313e-01\n",
      "  model = cd_fast.enet_coordinate_descent(\n",
      "/home/ying/.local/lib/python3.8/site-packages/sklearn/linear_model/_coordinate_descent.py:647: ConvergenceWarning: Objective did not converge. You might want to increase the number of iterations, check the scale of the features or consider increasing regularisation. Duality gap: 1.348e+01, tolerance: 1.313e-01\n",
      "  model = cd_fast.enet_coordinate_descent(\n",
      "/home/ying/.local/lib/python3.8/site-packages/sklearn/linear_model/_coordinate_descent.py:647: ConvergenceWarning: Objective did not converge. You might want to increase the number of iterations, check the scale of the features or consider increasing regularisation. Duality gap: 1.354e+01, tolerance: 1.313e-01\n",
      "  model = cd_fast.enet_coordinate_descent(\n",
      "/home/ying/.local/lib/python3.8/site-packages/sklearn/linear_model/_coordinate_descent.py:647: ConvergenceWarning: Objective did not converge. You might want to increase the number of iterations, check the scale of the features or consider increasing regularisation. Duality gap: 1.359e+01, tolerance: 1.313e-01\n",
      "  model = cd_fast.enet_coordinate_descent(\n",
      "/home/ying/.local/lib/python3.8/site-packages/sklearn/linear_model/_coordinate_descent.py:647: ConvergenceWarning: Objective did not converge. You might want to increase the number of iterations, check the scale of the features or consider increasing regularisation. Duality gap: 1.364e+01, tolerance: 1.313e-01\n",
      "  model = cd_fast.enet_coordinate_descent(\n",
      "/home/ying/.local/lib/python3.8/site-packages/sklearn/linear_model/_coordinate_descent.py:647: ConvergenceWarning: Objective did not converge. You might want to increase the number of iterations, check the scale of the features or consider increasing regularisation. Duality gap: 1.369e+01, tolerance: 1.313e-01\n",
      "  model = cd_fast.enet_coordinate_descent(\n",
      "/home/ying/.local/lib/python3.8/site-packages/sklearn/linear_model/_coordinate_descent.py:647: ConvergenceWarning: Objective did not converge. You might want to increase the number of iterations, check the scale of the features or consider increasing regularisation. Duality gap: 1.374e+01, tolerance: 1.313e-01\n",
      "  model = cd_fast.enet_coordinate_descent(\n",
      "/home/ying/.local/lib/python3.8/site-packages/sklearn/linear_model/_coordinate_descent.py:647: ConvergenceWarning: Objective did not converge. You might want to increase the number of iterations, check the scale of the features or consider increasing regularisation. Duality gap: 1.378e+01, tolerance: 1.313e-01\n",
      "  model = cd_fast.enet_coordinate_descent(\n",
      "/home/ying/.local/lib/python3.8/site-packages/sklearn/linear_model/_coordinate_descent.py:647: ConvergenceWarning: Objective did not converge. You might want to increase the number of iterations, check the scale of the features or consider increasing regularisation. Duality gap: 1.382e+01, tolerance: 1.313e-01\n",
      "  model = cd_fast.enet_coordinate_descent(\n",
      "/home/ying/.local/lib/python3.8/site-packages/sklearn/linear_model/_coordinate_descent.py:647: ConvergenceWarning: Objective did not converge. You might want to increase the number of iterations, check the scale of the features or consider increasing regularisation. Duality gap: 1.386e+01, tolerance: 1.313e-01\n",
      "  model = cd_fast.enet_coordinate_descent(\n",
      "/home/ying/.local/lib/python3.8/site-packages/sklearn/linear_model/_coordinate_descent.py:647: ConvergenceWarning: Objective did not converge. You might want to increase the number of iterations, check the scale of the features or consider increasing regularisation. Duality gap: 1.390e+01, tolerance: 1.313e-01\n",
      "  model = cd_fast.enet_coordinate_descent(\n",
      "/home/ying/.local/lib/python3.8/site-packages/sklearn/linear_model/_coordinate_descent.py:647: ConvergenceWarning: Objective did not converge. You might want to increase the number of iterations, check the scale of the features or consider increasing regularisation. Duality gap: 1.393e+01, tolerance: 1.313e-01\n",
      "  model = cd_fast.enet_coordinate_descent(\n",
      "/home/ying/.local/lib/python3.8/site-packages/sklearn/linear_model/_coordinate_descent.py:647: ConvergenceWarning: Objective did not converge. You might want to increase the number of iterations, check the scale of the features or consider increasing regularisation. Duality gap: 1.397e+01, tolerance: 1.313e-01\n",
      "  model = cd_fast.enet_coordinate_descent(\n",
      "/home/ying/.local/lib/python3.8/site-packages/sklearn/linear_model/_coordinate_descent.py:647: ConvergenceWarning: Objective did not converge. You might want to increase the number of iterations, check the scale of the features or consider increasing regularisation. Duality gap: 1.400e+01, tolerance: 1.313e-01\n",
      "  model = cd_fast.enet_coordinate_descent(\n",
      "/home/ying/.local/lib/python3.8/site-packages/sklearn/linear_model/_coordinate_descent.py:647: ConvergenceWarning: Objective did not converge. You might want to increase the number of iterations, check the scale of the features or consider increasing regularisation. Duality gap: 1.403e+01, tolerance: 1.313e-01\n",
      "  model = cd_fast.enet_coordinate_descent(\n",
      "/home/ying/.local/lib/python3.8/site-packages/sklearn/linear_model/_coordinate_descent.py:647: ConvergenceWarning: Objective did not converge. You might want to increase the number of iterations, check the scale of the features or consider increasing regularisation. Duality gap: 1.405e+01, tolerance: 1.313e-01\n",
      "  model = cd_fast.enet_coordinate_descent(\n",
      "/home/ying/.local/lib/python3.8/site-packages/sklearn/linear_model/_coordinate_descent.py:647: ConvergenceWarning: Objective did not converge. You might want to increase the number of iterations, check the scale of the features or consider increasing regularisation. Duality gap: 1.408e+01, tolerance: 1.313e-01\n",
      "  model = cd_fast.enet_coordinate_descent(\n",
      "/home/ying/.local/lib/python3.8/site-packages/sklearn/linear_model/_coordinate_descent.py:647: ConvergenceWarning: Objective did not converge. You might want to increase the number of iterations, check the scale of the features or consider increasing regularisation. Duality gap: 1.410e+01, tolerance: 1.313e-01\n",
      "  model = cd_fast.enet_coordinate_descent(\n",
      "/home/ying/.local/lib/python3.8/site-packages/sklearn/linear_model/_coordinate_descent.py:647: ConvergenceWarning: Objective did not converge. You might want to increase the number of iterations, check the scale of the features or consider increasing regularisation. Duality gap: 1.413e+01, tolerance: 1.313e-01\n",
      "  model = cd_fast.enet_coordinate_descent(\n",
      "/home/ying/.local/lib/python3.8/site-packages/sklearn/linear_model/_coordinate_descent.py:647: ConvergenceWarning: Objective did not converge. You might want to increase the number of iterations, check the scale of the features or consider increasing regularisation. Duality gap: 1.415e+01, tolerance: 1.313e-01\n",
      "  model = cd_fast.enet_coordinate_descent(\n",
      "/home/ying/.local/lib/python3.8/site-packages/sklearn/linear_model/_coordinate_descent.py:647: ConvergenceWarning: Objective did not converge. You might want to increase the number of iterations, check the scale of the features or consider increasing regularisation. Duality gap: 1.417e+01, tolerance: 1.313e-01\n",
      "  model = cd_fast.enet_coordinate_descent(\n",
      "/home/ying/.local/lib/python3.8/site-packages/sklearn/linear_model/_coordinate_descent.py:647: ConvergenceWarning: Objective did not converge. You might want to increase the number of iterations, check the scale of the features or consider increasing regularisation. Duality gap: 1.419e+01, tolerance: 1.313e-01\n",
      "  model = cd_fast.enet_coordinate_descent(\n",
      "/home/ying/.local/lib/python3.8/site-packages/sklearn/linear_model/_coordinate_descent.py:647: ConvergenceWarning: Objective did not converge. You might want to increase the number of iterations, check the scale of the features or consider increasing regularisation. Duality gap: 1.421e+01, tolerance: 1.313e-01\n",
      "  model = cd_fast.enet_coordinate_descent(\n",
      "/home/ying/.local/lib/python3.8/site-packages/sklearn/linear_model/_coordinate_descent.py:647: ConvergenceWarning: Objective did not converge. You might want to increase the number of iterations, check the scale of the features or consider increasing regularisation. Duality gap: 1.423e+01, tolerance: 1.313e-01\n",
      "  model = cd_fast.enet_coordinate_descent(\n",
      "/home/ying/.local/lib/python3.8/site-packages/sklearn/linear_model/_coordinate_descent.py:647: ConvergenceWarning: Objective did not converge. You might want to increase the number of iterations, check the scale of the features or consider increasing regularisation. Duality gap: 1.424e+01, tolerance: 1.313e-01\n",
      "  model = cd_fast.enet_coordinate_descent(\n",
      "/home/ying/.local/lib/python3.8/site-packages/sklearn/linear_model/_coordinate_descent.py:647: ConvergenceWarning: Objective did not converge. You might want to increase the number of iterations, check the scale of the features or consider increasing regularisation. Duality gap: 1.426e+01, tolerance: 1.313e-01\n",
      "  model = cd_fast.enet_coordinate_descent(\n",
      "/home/ying/.local/lib/python3.8/site-packages/sklearn/linear_model/_coordinate_descent.py:647: ConvergenceWarning: Objective did not converge. You might want to increase the number of iterations, check the scale of the features or consider increasing regularisation. Duality gap: 1.428e+01, tolerance: 1.313e-01\n",
      "  model = cd_fast.enet_coordinate_descent(\n",
      "/home/ying/.local/lib/python3.8/site-packages/sklearn/linear_model/_coordinate_descent.py:647: ConvergenceWarning: Objective did not converge. You might want to increase the number of iterations, check the scale of the features or consider increasing regularisation. Duality gap: 1.429e+01, tolerance: 1.313e-01\n",
      "  model = cd_fast.enet_coordinate_descent(\n",
      "/home/ying/.local/lib/python3.8/site-packages/sklearn/linear_model/_coordinate_descent.py:647: ConvergenceWarning: Objective did not converge. You might want to increase the number of iterations, check the scale of the features or consider increasing regularisation. Duality gap: 1.431e+01, tolerance: 1.313e-01\n",
      "  model = cd_fast.enet_coordinate_descent(\n",
      "/home/ying/.local/lib/python3.8/site-packages/sklearn/linear_model/_coordinate_descent.py:647: ConvergenceWarning: Objective did not converge. You might want to increase the number of iterations, check the scale of the features or consider increasing regularisation. Duality gap: 1.432e+01, tolerance: 1.313e-01\n",
      "  model = cd_fast.enet_coordinate_descent(\n",
      "/home/ying/.local/lib/python3.8/site-packages/sklearn/linear_model/_coordinate_descent.py:647: ConvergenceWarning: Objective did not converge. You might want to increase the number of iterations, check the scale of the features or consider increasing regularisation. Duality gap: 6.714e+00, tolerance: 1.313e-01\n",
      "  model = cd_fast.enet_coordinate_descent(\n",
      "/home/ying/.local/lib/python3.8/site-packages/sklearn/linear_model/_coordinate_descent.py:647: ConvergenceWarning: Objective did not converge. You might want to increase the number of iterations, check the scale of the features or consider increasing regularisation. Duality gap: 6.844e+00, tolerance: 1.313e-01\n",
      "  model = cd_fast.enet_coordinate_descent(\n",
      "/home/ying/.local/lib/python3.8/site-packages/sklearn/linear_model/_coordinate_descent.py:647: ConvergenceWarning: Objective did not converge. You might want to increase the number of iterations, check the scale of the features or consider increasing regularisation. Duality gap: 6.847e+00, tolerance: 1.313e-01\n",
      "  model = cd_fast.enet_coordinate_descent(\n",
      "/home/ying/.local/lib/python3.8/site-packages/sklearn/linear_model/_coordinate_descent.py:647: ConvergenceWarning: Objective did not converge. You might want to increase the number of iterations, check the scale of the features or consider increasing regularisation. Duality gap: 6.849e+00, tolerance: 1.313e-01\n",
      "  model = cd_fast.enet_coordinate_descent(\n",
      "/home/ying/.local/lib/python3.8/site-packages/sklearn/linear_model/_coordinate_descent.py:647: ConvergenceWarning: Objective did not converge. You might want to increase the number of iterations, check the scale of the features or consider increasing regularisation. Duality gap: 6.853e+00, tolerance: 1.313e-01\n",
      "  model = cd_fast.enet_coordinate_descent(\n",
      "/home/ying/.local/lib/python3.8/site-packages/sklearn/linear_model/_coordinate_descent.py:647: ConvergenceWarning: Objective did not converge. You might want to increase the number of iterations, check the scale of the features or consider increasing regularisation. Duality gap: 6.856e+00, tolerance: 1.313e-01\n",
      "  model = cd_fast.enet_coordinate_descent(\n",
      "/home/ying/.local/lib/python3.8/site-packages/sklearn/linear_model/_coordinate_descent.py:647: ConvergenceWarning: Objective did not converge. You might want to increase the number of iterations, check the scale of the features or consider increasing regularisation. Duality gap: 6.859e+00, tolerance: 1.313e-01\n",
      "  model = cd_fast.enet_coordinate_descent(\n",
      "/home/ying/.local/lib/python3.8/site-packages/sklearn/linear_model/_coordinate_descent.py:647: ConvergenceWarning: Objective did not converge. You might want to increase the number of iterations, check the scale of the features or consider increasing regularisation. Duality gap: 6.863e+00, tolerance: 1.313e-01\n",
      "  model = cd_fast.enet_coordinate_descent(\n",
      "/home/ying/.local/lib/python3.8/site-packages/sklearn/linear_model/_coordinate_descent.py:647: ConvergenceWarning: Objective did not converge. You might want to increase the number of iterations, check the scale of the features or consider increasing regularisation. Duality gap: 6.867e+00, tolerance: 1.313e-01\n",
      "  model = cd_fast.enet_coordinate_descent(\n",
      "/home/ying/.local/lib/python3.8/site-packages/sklearn/linear_model/_coordinate_descent.py:647: ConvergenceWarning: Objective did not converge. You might want to increase the number of iterations, check the scale of the features or consider increasing regularisation. Duality gap: 6.871e+00, tolerance: 1.313e-01\n",
      "  model = cd_fast.enet_coordinate_descent(\n",
      "/home/ying/.local/lib/python3.8/site-packages/sklearn/linear_model/_coordinate_descent.py:647: ConvergenceWarning: Objective did not converge. You might want to increase the number of iterations, check the scale of the features or consider increasing regularisation. Duality gap: 6.876e+00, tolerance: 1.313e-01\n",
      "  model = cd_fast.enet_coordinate_descent(\n",
      "/home/ying/.local/lib/python3.8/site-packages/sklearn/linear_model/_coordinate_descent.py:647: ConvergenceWarning: Objective did not converge. You might want to increase the number of iterations, check the scale of the features or consider increasing regularisation. Duality gap: 6.880e+00, tolerance: 1.313e-01\n",
      "  model = cd_fast.enet_coordinate_descent(\n",
      "/home/ying/.local/lib/python3.8/site-packages/sklearn/linear_model/_coordinate_descent.py:647: ConvergenceWarning: Objective did not converge. You might want to increase the number of iterations, check the scale of the features or consider increasing regularisation. Duality gap: 6.885e+00, tolerance: 1.313e-01\n",
      "  model = cd_fast.enet_coordinate_descent(\n",
      "/home/ying/.local/lib/python3.8/site-packages/sklearn/linear_model/_coordinate_descent.py:647: ConvergenceWarning: Objective did not converge. You might want to increase the number of iterations, check the scale of the features or consider increasing regularisation. Duality gap: 6.890e+00, tolerance: 1.313e-01\n",
      "  model = cd_fast.enet_coordinate_descent(\n",
      "/home/ying/.local/lib/python3.8/site-packages/sklearn/linear_model/_coordinate_descent.py:647: ConvergenceWarning: Objective did not converge. You might want to increase the number of iterations, check the scale of the features or consider increasing regularisation. Duality gap: 6.896e+00, tolerance: 1.313e-01\n",
      "  model = cd_fast.enet_coordinate_descent(\n",
      "/home/ying/.local/lib/python3.8/site-packages/sklearn/linear_model/_coordinate_descent.py:647: ConvergenceWarning: Objective did not converge. You might want to increase the number of iterations, check the scale of the features or consider increasing regularisation. Duality gap: 6.902e+00, tolerance: 1.313e-01\n",
      "  model = cd_fast.enet_coordinate_descent(\n",
      "/home/ying/.local/lib/python3.8/site-packages/sklearn/linear_model/_coordinate_descent.py:647: ConvergenceWarning: Objective did not converge. You might want to increase the number of iterations, check the scale of the features or consider increasing regularisation. Duality gap: 6.908e+00, tolerance: 1.313e-01\n",
      "  model = cd_fast.enet_coordinate_descent(\n",
      "/home/ying/.local/lib/python3.8/site-packages/sklearn/linear_model/_coordinate_descent.py:647: ConvergenceWarning: Objective did not converge. You might want to increase the number of iterations, check the scale of the features or consider increasing regularisation. Duality gap: 6.914e+00, tolerance: 1.313e-01\n",
      "  model = cd_fast.enet_coordinate_descent(\n",
      "/home/ying/.local/lib/python3.8/site-packages/sklearn/linear_model/_coordinate_descent.py:647: ConvergenceWarning: Objective did not converge. You might want to increase the number of iterations, check the scale of the features or consider increasing regularisation. Duality gap: 6.921e+00, tolerance: 1.313e-01\n",
      "  model = cd_fast.enet_coordinate_descent(\n",
      "/home/ying/.local/lib/python3.8/site-packages/sklearn/linear_model/_coordinate_descent.py:647: ConvergenceWarning: Objective did not converge. You might want to increase the number of iterations, check the scale of the features or consider increasing regularisation. Duality gap: 6.928e+00, tolerance: 1.313e-01\n",
      "  model = cd_fast.enet_coordinate_descent(\n",
      "/home/ying/.local/lib/python3.8/site-packages/sklearn/linear_model/_coordinate_descent.py:647: ConvergenceWarning: Objective did not converge. You might want to increase the number of iterations, check the scale of the features or consider increasing regularisation. Duality gap: 6.935e+00, tolerance: 1.313e-01\n",
      "  model = cd_fast.enet_coordinate_descent(\n",
      "/home/ying/.local/lib/python3.8/site-packages/sklearn/linear_model/_coordinate_descent.py:647: ConvergenceWarning: Objective did not converge. You might want to increase the number of iterations, check the scale of the features or consider increasing regularisation. Duality gap: 6.956e+00, tolerance: 1.313e-01\n",
      "  model = cd_fast.enet_coordinate_descent(\n",
      "/home/ying/.local/lib/python3.8/site-packages/sklearn/linear_model/_coordinate_descent.py:647: ConvergenceWarning: Objective did not converge. You might want to increase the number of iterations, check the scale of the features or consider increasing regularisation. Duality gap: 6.951e+00, tolerance: 1.313e-01\n",
      "  model = cd_fast.enet_coordinate_descent(\n",
      "/home/ying/.local/lib/python3.8/site-packages/sklearn/linear_model/_coordinate_descent.py:647: ConvergenceWarning: Objective did not converge. You might want to increase the number of iterations, check the scale of the features or consider increasing regularisation. Duality gap: 6.960e+00, tolerance: 1.313e-01\n",
      "  model = cd_fast.enet_coordinate_descent(\n",
      "/home/ying/.local/lib/python3.8/site-packages/sklearn/linear_model/_coordinate_descent.py:647: ConvergenceWarning: Objective did not converge. You might want to increase the number of iterations, check the scale of the features or consider increasing regularisation. Duality gap: 6.970e+00, tolerance: 1.313e-01\n",
      "  model = cd_fast.enet_coordinate_descent(\n",
      "/home/ying/.local/lib/python3.8/site-packages/sklearn/linear_model/_coordinate_descent.py:647: ConvergenceWarning: Objective did not converge. You might want to increase the number of iterations, check the scale of the features or consider increasing regularisation. Duality gap: 6.980e+00, tolerance: 1.313e-01\n",
      "  model = cd_fast.enet_coordinate_descent(\n",
      "/home/ying/.local/lib/python3.8/site-packages/sklearn/linear_model/_coordinate_descent.py:647: ConvergenceWarning: Objective did not converge. You might want to increase the number of iterations, check the scale of the features or consider increasing regularisation. Duality gap: 6.990e+00, tolerance: 1.313e-01\n",
      "  model = cd_fast.enet_coordinate_descent(\n",
      "/home/ying/.local/lib/python3.8/site-packages/sklearn/linear_model/_coordinate_descent.py:647: ConvergenceWarning: Objective did not converge. You might want to increase the number of iterations, check the scale of the features or consider increasing regularisation. Duality gap: 7.002e+00, tolerance: 1.313e-01\n",
      "  model = cd_fast.enet_coordinate_descent(\n",
      "/home/ying/.local/lib/python3.8/site-packages/sklearn/linear_model/_coordinate_descent.py:647: ConvergenceWarning: Objective did not converge. You might want to increase the number of iterations, check the scale of the features or consider increasing regularisation. Duality gap: 7.013e+00, tolerance: 1.313e-01\n",
      "  model = cd_fast.enet_coordinate_descent(\n",
      "/home/ying/.local/lib/python3.8/site-packages/sklearn/linear_model/_coordinate_descent.py:647: ConvergenceWarning: Objective did not converge. You might want to increase the number of iterations, check the scale of the features or consider increasing regularisation. Duality gap: 7.026e+00, tolerance: 1.313e-01\n",
      "  model = cd_fast.enet_coordinate_descent(\n",
      "/home/ying/.local/lib/python3.8/site-packages/sklearn/linear_model/_coordinate_descent.py:647: ConvergenceWarning: Objective did not converge. You might want to increase the number of iterations, check the scale of the features or consider increasing regularisation. Duality gap: 7.039e+00, tolerance: 1.313e-01\n",
      "  model = cd_fast.enet_coordinate_descent(\n",
      "/home/ying/.local/lib/python3.8/site-packages/sklearn/linear_model/_coordinate_descent.py:647: ConvergenceWarning: Objective did not converge. You might want to increase the number of iterations, check the scale of the features or consider increasing regularisation. Duality gap: 7.052e+00, tolerance: 1.313e-01\n",
      "  model = cd_fast.enet_coordinate_descent(\n",
      "/home/ying/.local/lib/python3.8/site-packages/sklearn/linear_model/_coordinate_descent.py:647: ConvergenceWarning: Objective did not converge. You might want to increase the number of iterations, check the scale of the features or consider increasing regularisation. Duality gap: 7.067e+00, tolerance: 1.313e-01\n",
      "  model = cd_fast.enet_coordinate_descent(\n",
      "/home/ying/.local/lib/python3.8/site-packages/sklearn/linear_model/_coordinate_descent.py:647: ConvergenceWarning: Objective did not converge. You might want to increase the number of iterations, check the scale of the features or consider increasing regularisation. Duality gap: 7.082e+00, tolerance: 1.313e-01\n",
      "  model = cd_fast.enet_coordinate_descent(\n",
      "/home/ying/.local/lib/python3.8/site-packages/sklearn/linear_model/_coordinate_descent.py:647: ConvergenceWarning: Objective did not converge. You might want to increase the number of iterations, check the scale of the features or consider increasing regularisation. Duality gap: 7.097e+00, tolerance: 1.313e-01\n",
      "  model = cd_fast.enet_coordinate_descent(\n",
      "/home/ying/.local/lib/python3.8/site-packages/sklearn/linear_model/_coordinate_descent.py:647: ConvergenceWarning: Objective did not converge. You might want to increase the number of iterations, check the scale of the features or consider increasing regularisation. Duality gap: 7.114e+00, tolerance: 1.313e-01\n",
      "  model = cd_fast.enet_coordinate_descent(\n",
      "/home/ying/.local/lib/python3.8/site-packages/sklearn/linear_model/_coordinate_descent.py:647: ConvergenceWarning: Objective did not converge. You might want to increase the number of iterations, check the scale of the features or consider increasing regularisation. Duality gap: 7.131e+00, tolerance: 1.313e-01\n",
      "  model = cd_fast.enet_coordinate_descent(\n",
      "/home/ying/.local/lib/python3.8/site-packages/sklearn/linear_model/_coordinate_descent.py:647: ConvergenceWarning: Objective did not converge. You might want to increase the number of iterations, check the scale of the features or consider increasing regularisation. Duality gap: 7.148e+00, tolerance: 1.313e-01\n",
      "  model = cd_fast.enet_coordinate_descent(\n",
      "/home/ying/.local/lib/python3.8/site-packages/sklearn/linear_model/_coordinate_descent.py:647: ConvergenceWarning: Objective did not converge. You might want to increase the number of iterations, check the scale of the features or consider increasing regularisation. Duality gap: 7.167e+00, tolerance: 1.313e-01\n",
      "  model = cd_fast.enet_coordinate_descent(\n",
      "/home/ying/.local/lib/python3.8/site-packages/sklearn/linear_model/_coordinate_descent.py:647: ConvergenceWarning: Objective did not converge. You might want to increase the number of iterations, check the scale of the features or consider increasing regularisation. Duality gap: 7.186e+00, tolerance: 1.313e-01\n",
      "  model = cd_fast.enet_coordinate_descent(\n",
      "/home/ying/.local/lib/python3.8/site-packages/sklearn/linear_model/_coordinate_descent.py:647: ConvergenceWarning: Objective did not converge. You might want to increase the number of iterations, check the scale of the features or consider increasing regularisation. Duality gap: 7.205e+00, tolerance: 1.313e-01\n",
      "  model = cd_fast.enet_coordinate_descent(\n",
      "/home/ying/.local/lib/python3.8/site-packages/sklearn/linear_model/_coordinate_descent.py:647: ConvergenceWarning: Objective did not converge. You might want to increase the number of iterations, check the scale of the features or consider increasing regularisation. Duality gap: 2.182e-01, tolerance: 1.313e-01\n",
      "  model = cd_fast.enet_coordinate_descent(\n"
     ]
    }
   ],
   "source": [
    "n_alphas = 300\n",
    "alphas = np.logspace(-5, 3, n_alphas)\n",
    "\n",
    "lasso = linear_model.Lasso()\n",
    "\n",
    "coefs = []\n",
    "errors = []\n",
    "r2s =[]\n",
    "for a in alphas:\n",
    "    lasso.set_params(alpha=a)\n",
    "    lasso.fit(X_train, y_train)\n",
    "    coefs.append(lasso.coef_)\n",
    "    errors.append( np.sqrt(mean_squared_error(y_test, lasso.predict(X_test))))\n",
    "    r2s.append(r2_score(y_test,lasso.predict(X_test)))"
   ]
  },
  {
   "cell_type": "code",
   "execution_count": 121,
   "metadata": {},
   "outputs": [
    {
     "name": "stdout",
     "output_type": "stream",
     "text": [
      "=== Régularisation Lasso ===\n",
      "Weights: \n",
      " [ 0.13895799  0.         -0.01583176  0.06612027  0.04337795  0.37037354\n",
      "  0.          0.3759909  -0.28439595  0.12421354 -0.68259449  0.\n",
      "  0.0009323  -0.         -0.00585139  0.05814816 -0.          0.\n",
      " -0.          0.20140392]\n",
      "alpha: \n",
      " 0.018374437246107267\n",
      "\n",
      "=== La performnce du modèle : Régression Lasso ===\n",
      "R2 = 0.6473235543029374\n",
      "RMSE = 0.8594352815716199\n"
     ]
    }
   ],
   "source": [
    "print(\"=== Régularisation Lasso ===\")\n",
    "print(\"Weights: \\n\", coefs[np.argmin(errors)])\n",
    "print(\"alpha: \\n\", alphas[np.argmin(errors)])\n",
    "print(\"\\n=== La performnce du modèle : Régression Lasso ===\")\n",
    "print('R2 = {}'.format(r2s[np.argmin(errors)]))\n",
    "print(\"RMSE = {}\".format(errors[np.argmin(errors)]) )  # la racine carrée d'erreur quadratique moyenne"
   ]
  },
  {
   "cell_type": "markdown",
   "metadata": {},
   "source": [
    "<span style=\"color: #008080\"> @ Lasso : `GridSearchCV`\n",
    "-\n",
    " </span>"
   ]
  },
  {
   "cell_type": "code",
   "execution_count": 122,
   "metadata": {},
   "outputs": [
    {
     "name": "stderr",
     "output_type": "stream",
     "text": [
      "/home/ying/.local/lib/python3.8/site-packages/sklearn/linear_model/_coordinate_descent.py:647: ConvergenceWarning: Objective did not converge. You might want to increase the number of iterations, check the scale of the features or consider increasing regularisation. Duality gap: 6.143e+00, tolerance: 1.041e-01\n",
      "  model = cd_fast.enet_coordinate_descent(\n",
      "/home/ying/.local/lib/python3.8/site-packages/sklearn/linear_model/_coordinate_descent.py:647: ConvergenceWarning: Objective did not converge. You might want to increase the number of iterations, check the scale of the features or consider increasing regularisation. Duality gap: 4.951e+00, tolerance: 1.022e-01\n",
      "  model = cd_fast.enet_coordinate_descent(\n",
      "/home/ying/.local/lib/python3.8/site-packages/sklearn/linear_model/_coordinate_descent.py:647: ConvergenceWarning: Objective did not converge. You might want to increase the number of iterations, check the scale of the features or consider increasing regularisation. Duality gap: 5.572e+00, tolerance: 1.107e-01\n",
      "  model = cd_fast.enet_coordinate_descent(\n",
      "/home/ying/.local/lib/python3.8/site-packages/sklearn/linear_model/_coordinate_descent.py:647: ConvergenceWarning: Objective did not converge. You might want to increase the number of iterations, check the scale of the features or consider increasing regularisation. Duality gap: 5.562e+00, tolerance: 1.088e-01\n",
      "  model = cd_fast.enet_coordinate_descent(\n",
      "/home/ying/.local/lib/python3.8/site-packages/sklearn/linear_model/_coordinate_descent.py:647: ConvergenceWarning: Objective did not converge. You might want to increase the number of iterations, check the scale of the features or consider increasing regularisation. Duality gap: 6.145e+00, tolerance: 1.041e-01\n",
      "  model = cd_fast.enet_coordinate_descent(\n",
      "/home/ying/.local/lib/python3.8/site-packages/sklearn/linear_model/_coordinate_descent.py:647: ConvergenceWarning: Objective did not converge. You might want to increase the number of iterations, check the scale of the features or consider increasing regularisation. Duality gap: 5.061e+00, tolerance: 9.942e-02\n",
      "  model = cd_fast.enet_coordinate_descent(\n",
      "/home/ying/.local/lib/python3.8/site-packages/sklearn/linear_model/_coordinate_descent.py:647: ConvergenceWarning: Objective did not converge. You might want to increase the number of iterations, check the scale of the features or consider increasing regularisation. Duality gap: 5.565e+00, tolerance: 1.088e-01\n",
      "  model = cd_fast.enet_coordinate_descent(\n",
      "/home/ying/.local/lib/python3.8/site-packages/sklearn/linear_model/_coordinate_descent.py:647: ConvergenceWarning: Objective did not converge. You might want to increase the number of iterations, check the scale of the features or consider increasing regularisation. Duality gap: 4.953e+00, tolerance: 1.022e-01\n",
      "  model = cd_fast.enet_coordinate_descent(\n",
      "/home/ying/.local/lib/python3.8/site-packages/sklearn/linear_model/_coordinate_descent.py:647: ConvergenceWarning: Objective did not converge. You might want to increase the number of iterations, check the scale of the features or consider increasing regularisation. Duality gap: 5.575e+00, tolerance: 1.107e-01\n",
      "  model = cd_fast.enet_coordinate_descent(\n",
      "/home/ying/.local/lib/python3.8/site-packages/sklearn/linear_model/_coordinate_descent.py:647: ConvergenceWarning: Objective did not converge. You might want to increase the number of iterations, check the scale of the features or consider increasing regularisation. Duality gap: 5.063e+00, tolerance: 9.942e-02\n",
      "  model = cd_fast.enet_coordinate_descent(\n",
      "/home/ying/.local/lib/python3.8/site-packages/sklearn/linear_model/_coordinate_descent.py:647: ConvergenceWarning: Objective did not converge. You might want to increase the number of iterations, check the scale of the features or consider increasing regularisation. Duality gap: 6.148e+00, tolerance: 1.041e-01\n",
      "  model = cd_fast.enet_coordinate_descent(\n",
      "/home/ying/.local/lib/python3.8/site-packages/sklearn/linear_model/_coordinate_descent.py:647: ConvergenceWarning: Objective did not converge. You might want to increase the number of iterations, check the scale of the features or consider increasing regularisation. Duality gap: 5.567e+00, tolerance: 1.088e-01\n",
      "  model = cd_fast.enet_coordinate_descent(\n",
      "/home/ying/.local/lib/python3.8/site-packages/sklearn/linear_model/_coordinate_descent.py:647: ConvergenceWarning: Objective did not converge. You might want to increase the number of iterations, check the scale of the features or consider increasing regularisation. Duality gap: 4.956e+00, tolerance: 1.022e-01\n",
      "  model = cd_fast.enet_coordinate_descent(\n",
      "/home/ying/.local/lib/python3.8/site-packages/sklearn/linear_model/_coordinate_descent.py:647: ConvergenceWarning: Objective did not converge. You might want to increase the number of iterations, check the scale of the features or consider increasing regularisation. Duality gap: 5.066e+00, tolerance: 9.942e-02\n",
      "  model = cd_fast.enet_coordinate_descent(\n",
      "/home/ying/.local/lib/python3.8/site-packages/sklearn/linear_model/_coordinate_descent.py:647: ConvergenceWarning: Objective did not converge. You might want to increase the number of iterations, check the scale of the features or consider increasing regularisation. Duality gap: 5.577e+00, tolerance: 1.107e-01\n",
      "  model = cd_fast.enet_coordinate_descent(\n",
      "/home/ying/.local/lib/python3.8/site-packages/sklearn/linear_model/_coordinate_descent.py:647: ConvergenceWarning: Objective did not converge. You might want to increase the number of iterations, check the scale of the features or consider increasing regularisation. Duality gap: 6.154e+00, tolerance: 1.041e-01\n",
      "  model = cd_fast.enet_coordinate_descent(\n",
      "/home/ying/.local/lib/python3.8/site-packages/sklearn/linear_model/_coordinate_descent.py:647: ConvergenceWarning: Objective did not converge. You might want to increase the number of iterations, check the scale of the features or consider increasing regularisation. Duality gap: 5.570e+00, tolerance: 1.088e-01\n",
      "  model = cd_fast.enet_coordinate_descent(\n",
      "/home/ying/.local/lib/python3.8/site-packages/sklearn/linear_model/_coordinate_descent.py:647: ConvergenceWarning: Objective did not converge. You might want to increase the number of iterations, check the scale of the features or consider increasing regularisation. Duality gap: 5.068e+00, tolerance: 9.942e-02\n",
      "  model = cd_fast.enet_coordinate_descent(\n",
      "/home/ying/.local/lib/python3.8/site-packages/sklearn/linear_model/_coordinate_descent.py:647: ConvergenceWarning: Objective did not converge. You might want to increase the number of iterations, check the scale of the features or consider increasing regularisation. Duality gap: 6.151e+00, tolerance: 1.041e-01\n",
      "  model = cd_fast.enet_coordinate_descent(\n",
      "/home/ying/.local/lib/python3.8/site-packages/sklearn/linear_model/_coordinate_descent.py:647: ConvergenceWarning: Objective did not converge. You might want to increase the number of iterations, check the scale of the features or consider increasing regularisation. Duality gap: 4.962e+00, tolerance: 1.022e-01\n",
      "  model = cd_fast.enet_coordinate_descent(\n",
      "/home/ying/.local/lib/python3.8/site-packages/sklearn/linear_model/_coordinate_descent.py:647: ConvergenceWarning: Objective did not converge. You might want to increase the number of iterations, check the scale of the features or consider increasing regularisation. Duality gap: 5.583e+00, tolerance: 1.107e-01\n",
      "  model = cd_fast.enet_coordinate_descent(\n",
      "/home/ying/.local/lib/python3.8/site-packages/sklearn/linear_model/_coordinate_descent.py:647: ConvergenceWarning: Objective did not converge. You might want to increase the number of iterations, check the scale of the features or consider increasing regularisation. Duality gap: 5.573e+00, tolerance: 1.088e-01\n",
      "  model = cd_fast.enet_coordinate_descent(\n",
      "/home/ying/.local/lib/python3.8/site-packages/sklearn/linear_model/_coordinate_descent.py:647: ConvergenceWarning: Objective did not converge. You might want to increase the number of iterations, check the scale of the features or consider increasing regularisation. Duality gap: 4.959e+00, tolerance: 1.022e-01\n",
      "  model = cd_fast.enet_coordinate_descent(\n",
      "/home/ying/.local/lib/python3.8/site-packages/sklearn/linear_model/_coordinate_descent.py:647: ConvergenceWarning: Objective did not converge. You might want to increase the number of iterations, check the scale of the features or consider increasing regularisation. Duality gap: 5.580e+00, tolerance: 1.107e-01\n",
      "  model = cd_fast.enet_coordinate_descent(\n",
      "/home/ying/.local/lib/python3.8/site-packages/sklearn/linear_model/_coordinate_descent.py:647: ConvergenceWarning: Objective did not converge. You might want to increase the number of iterations, check the scale of the features or consider increasing regularisation. Duality gap: 5.576e+00, tolerance: 1.088e-01\n",
      "  model = cd_fast.enet_coordinate_descent(\n",
      "/home/ying/.local/lib/python3.8/site-packages/sklearn/linear_model/_coordinate_descent.py:647: ConvergenceWarning: Objective did not converge. You might want to increase the number of iterations, check the scale of the features or consider increasing regularisation. Duality gap: 5.071e+00, tolerance: 9.942e-02\n",
      "  model = cd_fast.enet_coordinate_descent(\n",
      "/home/ying/.local/lib/python3.8/site-packages/sklearn/linear_model/_coordinate_descent.py:647: ConvergenceWarning: Objective did not converge. You might want to increase the number of iterations, check the scale of the features or consider increasing regularisation. Duality gap: 5.074e+00, tolerance: 9.942e-02\n",
      "  model = cd_fast.enet_coordinate_descent(\n",
      "/home/ying/.local/lib/python3.8/site-packages/sklearn/linear_model/_coordinate_descent.py:647: ConvergenceWarning: Objective did not converge. You might want to increase the number of iterations, check the scale of the features or consider increasing regularisation. Duality gap: 6.156e+00, tolerance: 1.041e-01\n",
      "  model = cd_fast.enet_coordinate_descent(\n",
      "/home/ying/.local/lib/python3.8/site-packages/sklearn/linear_model/_coordinate_descent.py:647: ConvergenceWarning: Objective did not converge. You might want to increase the number of iterations, check the scale of the features or consider increasing regularisation. Duality gap: 6.160e+00, tolerance: 1.041e-01\n",
      "  model = cd_fast.enet_coordinate_descent(\n",
      "/home/ying/.local/lib/python3.8/site-packages/sklearn/linear_model/_coordinate_descent.py:647: ConvergenceWarning: Objective did not converge. You might want to increase the number of iterations, check the scale of the features or consider increasing regularisation. Duality gap: 4.965e+00, tolerance: 1.022e-01\n",
      "  model = cd_fast.enet_coordinate_descent(\n",
      "/home/ying/.local/lib/python3.8/site-packages/sklearn/linear_model/_coordinate_descent.py:647: ConvergenceWarning: Objective did not converge. You might want to increase the number of iterations, check the scale of the features or consider increasing regularisation. Duality gap: 4.968e+00, tolerance: 1.022e-01\n",
      "  model = cd_fast.enet_coordinate_descent(\n",
      "/home/ying/.local/lib/python3.8/site-packages/sklearn/linear_model/_coordinate_descent.py:647: ConvergenceWarning: Objective did not converge. You might want to increase the number of iterations, check the scale of the features or consider increasing regularisation. Duality gap: 5.586e+00, tolerance: 1.107e-01\n",
      "  model = cd_fast.enet_coordinate_descent(\n",
      "/home/ying/.local/lib/python3.8/site-packages/sklearn/linear_model/_coordinate_descent.py:647: ConvergenceWarning: Objective did not converge. You might want to increase the number of iterations, check the scale of the features or consider increasing regularisation. Duality gap: 5.589e+00, tolerance: 1.107e-01\n",
      "  model = cd_fast.enet_coordinate_descent(\n",
      "/home/ying/.local/lib/python3.8/site-packages/sklearn/linear_model/_coordinate_descent.py:647: ConvergenceWarning: Objective did not converge. You might want to increase the number of iterations, check the scale of the features or consider increasing regularisation. Duality gap: 5.583e+00, tolerance: 1.088e-01\n",
      "  model = cd_fast.enet_coordinate_descent(\n",
      "/home/ying/.local/lib/python3.8/site-packages/sklearn/linear_model/_coordinate_descent.py:647: ConvergenceWarning: Objective did not converge. You might want to increase the number of iterations, check the scale of the features or consider increasing regularisation. Duality gap: 5.081e+00, tolerance: 9.942e-02\n",
      "  model = cd_fast.enet_coordinate_descent(\n",
      "/home/ying/.local/lib/python3.8/site-packages/sklearn/linear_model/_coordinate_descent.py:647: ConvergenceWarning: Objective did not converge. You might want to increase the number of iterations, check the scale of the features or consider increasing regularisation. Duality gap: 5.579e+00, tolerance: 1.088e-01\n",
      "  model = cd_fast.enet_coordinate_descent(\n",
      "/home/ying/.local/lib/python3.8/site-packages/sklearn/linear_model/_coordinate_descent.py:647: ConvergenceWarning: Objective did not converge. You might want to increase the number of iterations, check the scale of the features or consider increasing regularisation. Duality gap: 5.078e+00, tolerance: 9.942e-02\n",
      "  model = cd_fast.enet_coordinate_descent(\n",
      "/home/ying/.local/lib/python3.8/site-packages/sklearn/linear_model/_coordinate_descent.py:647: ConvergenceWarning: Objective did not converge. You might want to increase the number of iterations, check the scale of the features or consider increasing regularisation. Duality gap: 6.166e+00, tolerance: 1.041e-01\n",
      "  model = cd_fast.enet_coordinate_descent(\n",
      "/home/ying/.local/lib/python3.8/site-packages/sklearn/linear_model/_coordinate_descent.py:647: ConvergenceWarning: Objective did not converge. You might want to increase the number of iterations, check the scale of the features or consider increasing regularisation. Duality gap: 4.975e+00, tolerance: 1.022e-01\n",
      "  model = cd_fast.enet_coordinate_descent(\n",
      "/home/ying/.local/lib/python3.8/site-packages/sklearn/linear_model/_coordinate_descent.py:647: ConvergenceWarning: Objective did not converge. You might want to increase the number of iterations, check the scale of the features or consider increasing regularisation. Duality gap: 6.163e+00, tolerance: 1.041e-01\n",
      "  model = cd_fast.enet_coordinate_descent(\n",
      "/home/ying/.local/lib/python3.8/site-packages/sklearn/linear_model/_coordinate_descent.py:647: ConvergenceWarning: Objective did not converge. You might want to increase the number of iterations, check the scale of the features or consider increasing regularisation. Duality gap: 4.971e+00, tolerance: 1.022e-01\n",
      "  model = cd_fast.enet_coordinate_descent(\n",
      "/home/ying/.local/lib/python3.8/site-packages/sklearn/linear_model/_coordinate_descent.py:647: ConvergenceWarning: Objective did not converge. You might want to increase the number of iterations, check the scale of the features or consider increasing regularisation. Duality gap: 5.592e+00, tolerance: 1.107e-01\n",
      "  model = cd_fast.enet_coordinate_descent(\n",
      "/home/ying/.local/lib/python3.8/site-packages/sklearn/linear_model/_coordinate_descent.py:647: ConvergenceWarning: Objective did not converge. You might want to increase the number of iterations, check the scale of the features or consider increasing regularisation. Duality gap: 5.596e+00, tolerance: 1.107e-01\n",
      "  model = cd_fast.enet_coordinate_descent(\n",
      "/home/ying/.local/lib/python3.8/site-packages/sklearn/linear_model/_coordinate_descent.py:647: ConvergenceWarning: Objective did not converge. You might want to increase the number of iterations, check the scale of the features or consider increasing regularisation. Duality gap: 5.586e+00, tolerance: 1.088e-01\n",
      "  model = cd_fast.enet_coordinate_descent(\n",
      "/home/ying/.local/lib/python3.8/site-packages/sklearn/linear_model/_coordinate_descent.py:647: ConvergenceWarning: Objective did not converge. You might want to increase the number of iterations, check the scale of the features or consider increasing regularisation. Duality gap: 5.084e+00, tolerance: 9.942e-02\n",
      "  model = cd_fast.enet_coordinate_descent(\n",
      "/home/ying/.local/lib/python3.8/site-packages/sklearn/linear_model/_coordinate_descent.py:647: ConvergenceWarning: Objective did not converge. You might want to increase the number of iterations, check the scale of the features or consider increasing regularisation. Duality gap: 5.100e+00, tolerance: 9.942e-02\n",
      "  model = cd_fast.enet_coordinate_descent(\n",
      "/home/ying/.local/lib/python3.8/site-packages/sklearn/linear_model/_coordinate_descent.py:647: ConvergenceWarning: Objective did not converge. You might want to increase the number of iterations, check the scale of the features or consider increasing regularisation. Duality gap: 6.174e+00, tolerance: 1.041e-01\n",
      "  model = cd_fast.enet_coordinate_descent(\n",
      "/home/ying/.local/lib/python3.8/site-packages/sklearn/linear_model/_coordinate_descent.py:647: ConvergenceWarning: Objective did not converge. You might want to increase the number of iterations, check the scale of the features or consider increasing regularisation. Duality gap: 5.590e+00, tolerance: 1.088e-01\n",
      "  model = cd_fast.enet_coordinate_descent(\n",
      "/home/ying/.local/lib/python3.8/site-packages/sklearn/linear_model/_coordinate_descent.py:647: ConvergenceWarning: Objective did not converge. You might want to increase the number of iterations, check the scale of the features or consider increasing regularisation. Duality gap: 6.170e+00, tolerance: 1.041e-01\n",
      "  model = cd_fast.enet_coordinate_descent(\n",
      "/home/ying/.local/lib/python3.8/site-packages/sklearn/linear_model/_coordinate_descent.py:647: ConvergenceWarning: Objective did not converge. You might want to increase the number of iterations, check the scale of the features or consider increasing regularisation. Duality gap: 4.982e+00, tolerance: 1.022e-01\n",
      "  model = cd_fast.enet_coordinate_descent(\n",
      "/home/ying/.local/lib/python3.8/site-packages/sklearn/linear_model/_coordinate_descent.py:647: ConvergenceWarning: Objective did not converge. You might want to increase the number of iterations, check the scale of the features or consider increasing regularisation. Duality gap: 5.594e+00, tolerance: 1.088e-01\n",
      "  model = cd_fast.enet_coordinate_descent(\n",
      "/home/ying/.local/lib/python3.8/site-packages/sklearn/linear_model/_coordinate_descent.py:647: ConvergenceWarning: Objective did not converge. You might want to increase the number of iterations, check the scale of the features or consider increasing regularisation. Duality gap: 4.979e+00, tolerance: 1.022e-01\n",
      "  model = cd_fast.enet_coordinate_descent(\n",
      "/home/ying/.local/lib/python3.8/site-packages/sklearn/linear_model/_coordinate_descent.py:647: ConvergenceWarning: Objective did not converge. You might want to increase the number of iterations, check the scale of the features or consider increasing regularisation. Duality gap: 5.603e+00, tolerance: 1.107e-01\n",
      "  model = cd_fast.enet_coordinate_descent(\n",
      "/home/ying/.local/lib/python3.8/site-packages/sklearn/linear_model/_coordinate_descent.py:647: ConvergenceWarning: Objective did not converge. You might want to increase the number of iterations, check the scale of the features or consider increasing regularisation. Duality gap: 5.599e+00, tolerance: 1.107e-01\n",
      "  model = cd_fast.enet_coordinate_descent(\n",
      "/home/ying/.local/lib/python3.8/site-packages/sklearn/linear_model/_coordinate_descent.py:647: ConvergenceWarning: Objective did not converge. You might want to increase the number of iterations, check the scale of the features or consider increasing regularisation. Duality gap: 5.598e+00, tolerance: 1.088e-01\n",
      "  model = cd_fast.enet_coordinate_descent(\n",
      "/home/ying/.local/lib/python3.8/site-packages/sklearn/linear_model/_coordinate_descent.py:647: ConvergenceWarning: Objective did not converge. You might want to increase the number of iterations, check the scale of the features or consider increasing regularisation. Duality gap: 5.095e+00, tolerance: 9.942e-02\n",
      "  model = cd_fast.enet_coordinate_descent(\n",
      "/home/ying/.local/lib/python3.8/site-packages/sklearn/linear_model/_coordinate_descent.py:647: ConvergenceWarning: Objective did not converge. You might want to increase the number of iterations, check the scale of the features or consider increasing regularisation. Duality gap: 5.091e+00, tolerance: 9.942e-02\n",
      "  model = cd_fast.enet_coordinate_descent(\n",
      "/home/ying/.local/lib/python3.8/site-packages/sklearn/linear_model/_coordinate_descent.py:647: ConvergenceWarning: Objective did not converge. You might want to increase the number of iterations, check the scale of the features or consider increasing regularisation. Duality gap: 6.177e+00, tolerance: 1.041e-01\n",
      "  model = cd_fast.enet_coordinate_descent(\n",
      "/home/ying/.local/lib/python3.8/site-packages/sklearn/linear_model/_coordinate_descent.py:647: ConvergenceWarning: Objective did not converge. You might want to increase the number of iterations, check the scale of the features or consider increasing regularisation. Duality gap: 6.182e+00, tolerance: 1.041e-01\n",
      "  model = cd_fast.enet_coordinate_descent(\n",
      "/home/ying/.local/lib/python3.8/site-packages/sklearn/linear_model/_coordinate_descent.py:647: ConvergenceWarning: Objective did not converge. You might want to increase the number of iterations, check the scale of the features or consider increasing regularisation. Duality gap: 4.987e+00, tolerance: 1.022e-01\n",
      "  model = cd_fast.enet_coordinate_descent(\n",
      "/home/ying/.local/lib/python3.8/site-packages/sklearn/linear_model/_coordinate_descent.py:647: ConvergenceWarning: Objective did not converge. You might want to increase the number of iterations, check the scale of the features or consider increasing regularisation. Duality gap: 4.991e+00, tolerance: 1.022e-01\n",
      "  model = cd_fast.enet_coordinate_descent(\n",
      "/home/ying/.local/lib/python3.8/site-packages/sklearn/linear_model/_coordinate_descent.py:647: ConvergenceWarning: Objective did not converge. You might want to increase the number of iterations, check the scale of the features or consider increasing regularisation. Duality gap: 5.607e+00, tolerance: 1.107e-01\n",
      "  model = cd_fast.enet_coordinate_descent(\n",
      "/home/ying/.local/lib/python3.8/site-packages/sklearn/linear_model/_coordinate_descent.py:647: ConvergenceWarning: Objective did not converge. You might want to increase the number of iterations, check the scale of the features or consider increasing regularisation. Duality gap: 5.611e+00, tolerance: 1.107e-01\n",
      "  model = cd_fast.enet_coordinate_descent(\n",
      "/home/ying/.local/lib/python3.8/site-packages/sklearn/linear_model/_coordinate_descent.py:647: ConvergenceWarning: Objective did not converge. You might want to increase the number of iterations, check the scale of the features or consider increasing regularisation. Duality gap: 5.606e+00, tolerance: 1.088e-01\n",
      "  model = cd_fast.enet_coordinate_descent(\n",
      "/home/ying/.local/lib/python3.8/site-packages/sklearn/linear_model/_coordinate_descent.py:647: ConvergenceWarning: Objective did not converge. You might want to increase the number of iterations, check the scale of the features or consider increasing regularisation. Duality gap: 5.602e+00, tolerance: 1.088e-01\n",
      "  model = cd_fast.enet_coordinate_descent(\n",
      "/home/ying/.local/lib/python3.8/site-packages/sklearn/linear_model/_coordinate_descent.py:647: ConvergenceWarning: Objective did not converge. You might want to increase the number of iterations, check the scale of the features or consider increasing regularisation. Duality gap: 5.104e+00, tolerance: 9.942e-02\n",
      "  model = cd_fast.enet_coordinate_descent(\n",
      "/home/ying/.local/lib/python3.8/site-packages/sklearn/linear_model/_coordinate_descent.py:647: ConvergenceWarning: Objective did not converge. You might want to increase the number of iterations, check the scale of the features or consider increasing regularisation. Duality gap: 6.186e+00, tolerance: 1.041e-01\n",
      "  model = cd_fast.enet_coordinate_descent(\n",
      "/home/ying/.local/lib/python3.8/site-packages/sklearn/linear_model/_coordinate_descent.py:647: ConvergenceWarning: Objective did not converge. You might want to increase the number of iterations, check the scale of the features or consider increasing regularisation. Duality gap: 6.117e+00, tolerance: 1.041e-01\n",
      "  model = cd_fast.enet_coordinate_descent(\n",
      "/home/ying/.local/lib/python3.8/site-packages/sklearn/linear_model/_coordinate_descent.py:647: ConvergenceWarning: Objective did not converge. You might want to increase the number of iterations, check the scale of the features or consider increasing regularisation. Duality gap: 5.100e+00, tolerance: 9.942e-02\n",
      "  model = cd_fast.enet_coordinate_descent(\n",
      "/home/ying/.local/lib/python3.8/site-packages/sklearn/linear_model/_coordinate_descent.py:647: ConvergenceWarning: Objective did not converge. You might want to increase the number of iterations, check the scale of the features or consider increasing regularisation. Duality gap: 5.000e+00, tolerance: 1.022e-01\n",
      "  model = cd_fast.enet_coordinate_descent(\n",
      "/home/ying/.local/lib/python3.8/site-packages/sklearn/linear_model/_coordinate_descent.py:647: ConvergenceWarning: Objective did not converge. You might want to increase the number of iterations, check the scale of the features or consider increasing regularisation. Duality gap: 4.996e+00, tolerance: 1.022e-01\n",
      "  model = cd_fast.enet_coordinate_descent(\n",
      "/home/ying/.local/lib/python3.8/site-packages/sklearn/linear_model/_coordinate_descent.py:647: ConvergenceWarning: Objective did not converge. You might want to increase the number of iterations, check the scale of the features or consider increasing regularisation. Duality gap: 5.616e+00, tolerance: 1.107e-01\n",
      "  model = cd_fast.enet_coordinate_descent(\n",
      "/home/ying/.local/lib/python3.8/site-packages/sklearn/linear_model/_coordinate_descent.py:647: ConvergenceWarning: Objective did not converge. You might want to increase the number of iterations, check the scale of the features or consider increasing regularisation. Duality gap: 5.620e+00, tolerance: 1.107e-01\n",
      "  model = cd_fast.enet_coordinate_descent(\n",
      "/home/ying/.local/lib/python3.8/site-packages/sklearn/linear_model/_coordinate_descent.py:647: ConvergenceWarning: Objective did not converge. You might want to increase the number of iterations, check the scale of the features or consider increasing regularisation. Duality gap: 5.109e+00, tolerance: 9.942e-02\n",
      "  model = cd_fast.enet_coordinate_descent(\n",
      "/home/ying/.local/lib/python3.8/site-packages/sklearn/linear_model/_coordinate_descent.py:647: ConvergenceWarning: Objective did not converge. You might want to increase the number of iterations, check the scale of the features or consider increasing regularisation. Duality gap: 5.611e+00, tolerance: 1.088e-01\n",
      "  model = cd_fast.enet_coordinate_descent(\n",
      "/home/ying/.local/lib/python3.8/site-packages/sklearn/linear_model/_coordinate_descent.py:647: ConvergenceWarning: Objective did not converge. You might want to increase the number of iterations, check the scale of the features or consider increasing regularisation. Duality gap: 5.616e+00, tolerance: 1.088e-01\n",
      "  model = cd_fast.enet_coordinate_descent(\n",
      "/home/ying/.local/lib/python3.8/site-packages/sklearn/linear_model/_coordinate_descent.py:647: ConvergenceWarning: Objective did not converge. You might want to increase the number of iterations, check the scale of the features or consider increasing regularisation. Duality gap: 5.114e+00, tolerance: 9.942e-02\n",
      "  model = cd_fast.enet_coordinate_descent(\n",
      "/home/ying/.local/lib/python3.8/site-packages/sklearn/linear_model/_coordinate_descent.py:647: ConvergenceWarning: Objective did not converge. You might want to increase the number of iterations, check the scale of the features or consider increasing regularisation. Duality gap: 6.193e+00, tolerance: 1.041e-01\n",
      "  model = cd_fast.enet_coordinate_descent(\n",
      "/home/ying/.local/lib/python3.8/site-packages/sklearn/linear_model/_coordinate_descent.py:647: ConvergenceWarning: Objective did not converge. You might want to increase the number of iterations, check the scale of the features or consider increasing regularisation. Duality gap: 6.200e+00, tolerance: 1.041e-01\n",
      "  model = cd_fast.enet_coordinate_descent(\n",
      "/home/ying/.local/lib/python3.8/site-packages/sklearn/linear_model/_coordinate_descent.py:647: ConvergenceWarning: Objective did not converge. You might want to increase the number of iterations, check the scale of the features or consider increasing regularisation. Duality gap: 5.005e+00, tolerance: 1.022e-01\n",
      "  model = cd_fast.enet_coordinate_descent(\n",
      "/home/ying/.local/lib/python3.8/site-packages/sklearn/linear_model/_coordinate_descent.py:647: ConvergenceWarning: Objective did not converge. You might want to increase the number of iterations, check the scale of the features or consider increasing regularisation. Duality gap: 5.630e+00, tolerance: 1.107e-01\n",
      "  model = cd_fast.enet_coordinate_descent(\n",
      "/home/ying/.local/lib/python3.8/site-packages/sklearn/linear_model/_coordinate_descent.py:647: ConvergenceWarning: Objective did not converge. You might want to increase the number of iterations, check the scale of the features or consider increasing regularisation. Duality gap: 5.625e+00, tolerance: 1.107e-01\n",
      "  model = cd_fast.enet_coordinate_descent(\n",
      "/home/ying/.local/lib/python3.8/site-packages/sklearn/linear_model/_coordinate_descent.py:647: ConvergenceWarning: Objective did not converge. You might want to increase the number of iterations, check the scale of the features or consider increasing regularisation. Duality gap: 5.125e+00, tolerance: 9.942e-02\n",
      "  model = cd_fast.enet_coordinate_descent(\n",
      "/home/ying/.local/lib/python3.8/site-packages/sklearn/linear_model/_coordinate_descent.py:647: ConvergenceWarning: Objective did not converge. You might want to increase the number of iterations, check the scale of the features or consider increasing regularisation. Duality gap: 5.621e+00, tolerance: 1.088e-01\n",
      "  model = cd_fast.enet_coordinate_descent(\n",
      "/home/ying/.local/lib/python3.8/site-packages/sklearn/linear_model/_coordinate_descent.py:647: ConvergenceWarning: Objective did not converge. You might want to increase the number of iterations, check the scale of the features or consider increasing regularisation. Duality gap: 6.206e+00, tolerance: 1.041e-01\n",
      "  model = cd_fast.enet_coordinate_descent(\n",
      "/home/ying/.local/lib/python3.8/site-packages/sklearn/linear_model/_coordinate_descent.py:647: ConvergenceWarning: Objective did not converge. You might want to increase the number of iterations, check the scale of the features or consider increasing regularisation. Duality gap: 5.022e+00, tolerance: 1.022e-01\n",
      "  model = cd_fast.enet_coordinate_descent(\n",
      "/home/ying/.local/lib/python3.8/site-packages/sklearn/linear_model/_coordinate_descent.py:647: ConvergenceWarning: Objective did not converge. You might want to increase the number of iterations, check the scale of the features or consider increasing regularisation. Duality gap: 5.638e+00, tolerance: 1.088e-01\n",
      "  model = cd_fast.enet_coordinate_descent(\n",
      "/home/ying/.local/lib/python3.8/site-packages/sklearn/linear_model/_coordinate_descent.py:647: ConvergenceWarning: Objective did not converge. You might want to increase the number of iterations, check the scale of the features or consider increasing regularisation. Duality gap: 5.635e+00, tolerance: 1.107e-01\n",
      "  model = cd_fast.enet_coordinate_descent(\n",
      "/home/ying/.local/lib/python3.8/site-packages/sklearn/linear_model/_coordinate_descent.py:647: ConvergenceWarning: Objective did not converge. You might want to increase the number of iterations, check the scale of the features or consider increasing regularisation. Duality gap: 6.223e+00, tolerance: 1.041e-01\n",
      "  model = cd_fast.enet_coordinate_descent(\n",
      "/home/ying/.local/lib/python3.8/site-packages/sklearn/linear_model/_coordinate_descent.py:647: ConvergenceWarning: Objective did not converge. You might want to increase the number of iterations, check the scale of the features or consider increasing regularisation. Duality gap: 5.011e+00, tolerance: 1.022e-01\n",
      "  model = cd_fast.enet_coordinate_descent(\n",
      "/home/ying/.local/lib/python3.8/site-packages/sklearn/linear_model/_coordinate_descent.py:647: ConvergenceWarning: Objective did not converge. You might want to increase the number of iterations, check the scale of the features or consider increasing regularisation. Duality gap: 5.626e+00, tolerance: 1.088e-01\n",
      "  model = cd_fast.enet_coordinate_descent(\n",
      "/home/ying/.local/lib/python3.8/site-packages/sklearn/linear_model/_coordinate_descent.py:647: ConvergenceWarning: Objective did not converge. You might want to increase the number of iterations, check the scale of the features or consider increasing regularisation. Duality gap: 5.655e+00, tolerance: 1.107e-01\n",
      "  model = cd_fast.enet_coordinate_descent(\n",
      "/home/ying/.local/lib/python3.8/site-packages/sklearn/linear_model/_coordinate_descent.py:647: ConvergenceWarning: Objective did not converge. You might want to increase the number of iterations, check the scale of the features or consider increasing regularisation. Duality gap: 6.211e+00, tolerance: 1.041e-01\n",
      "  model = cd_fast.enet_coordinate_descent(\n",
      "/home/ying/.local/lib/python3.8/site-packages/sklearn/linear_model/_coordinate_descent.py:647: ConvergenceWarning: Objective did not converge. You might want to increase the number of iterations, check the scale of the features or consider increasing regularisation. Duality gap: 5.131e+00, tolerance: 9.942e-02\n",
      "  model = cd_fast.enet_coordinate_descent(\n",
      "/home/ying/.local/lib/python3.8/site-packages/sklearn/linear_model/_coordinate_descent.py:647: ConvergenceWarning: Objective did not converge. You might want to increase the number of iterations, check the scale of the features or consider increasing regularisation. Duality gap: 5.028e+00, tolerance: 1.022e-01\n",
      "  model = cd_fast.enet_coordinate_descent(\n",
      "/home/ying/.local/lib/python3.8/site-packages/sklearn/linear_model/_coordinate_descent.py:647: ConvergenceWarning: Objective did not converge. You might want to increase the number of iterations, check the scale of the features or consider increasing regularisation. Duality gap: 5.119e+00, tolerance: 9.942e-02\n",
      "  model = cd_fast.enet_coordinate_descent(\n",
      "/home/ying/.local/lib/python3.8/site-packages/sklearn/linear_model/_coordinate_descent.py:647: ConvergenceWarning: Objective did not converge. You might want to increase the number of iterations, check the scale of the features or consider increasing regularisation. Duality gap: 5.644e+00, tolerance: 1.088e-01\n",
      "  model = cd_fast.enet_coordinate_descent(\n",
      "/home/ying/.local/lib/python3.8/site-packages/sklearn/linear_model/_coordinate_descent.py:647: ConvergenceWarning: Objective did not converge. You might want to increase the number of iterations, check the scale of the features or consider increasing regularisation. Duality gap: 5.016e+00, tolerance: 1.022e-01\n",
      "  model = cd_fast.enet_coordinate_descent(\n",
      "/home/ying/.local/lib/python3.8/site-packages/sklearn/linear_model/_coordinate_descent.py:647: ConvergenceWarning: Objective did not converge. You might want to increase the number of iterations, check the scale of the features or consider increasing regularisation. Duality gap: 6.230e+00, tolerance: 1.041e-01\n",
      "  model = cd_fast.enet_coordinate_descent(\n",
      "/home/ying/.local/lib/python3.8/site-packages/sklearn/linear_model/_coordinate_descent.py:647: ConvergenceWarning: Objective did not converge. You might want to increase the number of iterations, check the scale of the features or consider increasing regularisation. Duality gap: 5.632e+00, tolerance: 1.088e-01\n",
      "  model = cd_fast.enet_coordinate_descent(\n",
      "/home/ying/.local/lib/python3.8/site-packages/sklearn/linear_model/_coordinate_descent.py:647: ConvergenceWarning: Objective did not converge. You might want to increase the number of iterations, check the scale of the features or consider increasing regularisation. Duality gap: 5.641e+00, tolerance: 1.107e-01\n",
      "  model = cd_fast.enet_coordinate_descent(\n",
      "/home/ying/.local/lib/python3.8/site-packages/sklearn/linear_model/_coordinate_descent.py:647: ConvergenceWarning: Objective did not converge. You might want to increase the number of iterations, check the scale of the features or consider increasing regularisation. Duality gap: 5.137e+00, tolerance: 9.942e-02\n",
      "  model = cd_fast.enet_coordinate_descent(\n",
      "/home/ying/.local/lib/python3.8/site-packages/sklearn/linear_model/_coordinate_descent.py:647: ConvergenceWarning: Objective did not converge. You might want to increase the number of iterations, check the scale of the features or consider increasing regularisation. Duality gap: 5.150e+00, tolerance: 9.942e-02\n",
      "  model = cd_fast.enet_coordinate_descent(\n",
      "/home/ying/.local/lib/python3.8/site-packages/sklearn/linear_model/_coordinate_descent.py:647: ConvergenceWarning: Objective did not converge. You might want to increase the number of iterations, check the scale of the features or consider increasing regularisation. Duality gap: 5.034e+00, tolerance: 1.022e-01\n",
      "  model = cd_fast.enet_coordinate_descent(\n",
      "/home/ying/.local/lib/python3.8/site-packages/sklearn/linear_model/_coordinate_descent.py:647: ConvergenceWarning: Objective did not converge. You might want to increase the number of iterations, check the scale of the features or consider increasing regularisation. Duality gap: 5.048e+00, tolerance: 1.022e-01\n",
      "  model = cd_fast.enet_coordinate_descent(\n",
      "/home/ying/.local/lib/python3.8/site-packages/sklearn/linear_model/_coordinate_descent.py:647: ConvergenceWarning: Objective did not converge. You might want to increase the number of iterations, check the scale of the features or consider increasing regularisation. Duality gap: 5.650e+00, tolerance: 1.088e-01\n",
      "  model = cd_fast.enet_coordinate_descent(\n",
      "/home/ying/.local/lib/python3.8/site-packages/sklearn/linear_model/_coordinate_descent.py:647: ConvergenceWarning: Objective did not converge. You might want to increase the number of iterations, check the scale of the features or consider increasing regularisation. Duality gap: 5.664e+00, tolerance: 1.088e-01\n",
      "  model = cd_fast.enet_coordinate_descent(\n",
      "/home/ying/.local/lib/python3.8/site-packages/sklearn/linear_model/_coordinate_descent.py:647: ConvergenceWarning: Objective did not converge. You might want to increase the number of iterations, check the scale of the features or consider increasing regularisation. Duality gap: 5.712e+00, tolerance: 1.107e-01\n",
      "  model = cd_fast.enet_coordinate_descent(\n",
      "/home/ying/.local/lib/python3.8/site-packages/sklearn/linear_model/_coordinate_descent.py:647: ConvergenceWarning: Objective did not converge. You might want to increase the number of iterations, check the scale of the features or consider increasing regularisation. Duality gap: 5.659e+00, tolerance: 1.107e-01\n",
      "  model = cd_fast.enet_coordinate_descent(\n",
      "/home/ying/.local/lib/python3.8/site-packages/sklearn/linear_model/_coordinate_descent.py:647: ConvergenceWarning: Objective did not converge. You might want to increase the number of iterations, check the scale of the features or consider increasing regularisation. Duality gap: 6.217e+00, tolerance: 1.041e-01\n",
      "  model = cd_fast.enet_coordinate_descent(\n",
      "/home/ying/.local/lib/python3.8/site-packages/sklearn/linear_model/_coordinate_descent.py:647: ConvergenceWarning: Objective did not converge. You might want to increase the number of iterations, check the scale of the features or consider increasing regularisation. Duality gap: 5.143e+00, tolerance: 9.942e-02\n",
      "  model = cd_fast.enet_coordinate_descent(\n",
      "/home/ying/.local/lib/python3.8/site-packages/sklearn/linear_model/_coordinate_descent.py:647: ConvergenceWarning: Objective did not converge. You might want to increase the number of iterations, check the scale of the features or consider increasing regularisation. Duality gap: 6.251e+00, tolerance: 1.041e-01\n",
      "  model = cd_fast.enet_coordinate_descent(\n",
      "/home/ying/.local/lib/python3.8/site-packages/sklearn/linear_model/_coordinate_descent.py:647: ConvergenceWarning: Objective did not converge. You might want to increase the number of iterations, check the scale of the features or consider increasing regularisation. Duality gap: 5.041e+00, tolerance: 1.022e-01\n",
      "  model = cd_fast.enet_coordinate_descent(\n",
      "/home/ying/.local/lib/python3.8/site-packages/sklearn/linear_model/_coordinate_descent.py:647: ConvergenceWarning: Objective did not converge. You might want to increase the number of iterations, check the scale of the features or consider increasing regularisation. Duality gap: 5.055e+00, tolerance: 1.022e-01\n",
      "  model = cd_fast.enet_coordinate_descent(\n",
      "/home/ying/.local/lib/python3.8/site-packages/sklearn/linear_model/_coordinate_descent.py:647: ConvergenceWarning: Objective did not converge. You might want to increase the number of iterations, check the scale of the features or consider increasing regularisation. Duality gap: 5.157e+00, tolerance: 9.942e-02\n",
      "  model = cd_fast.enet_coordinate_descent(\n",
      "/home/ying/.local/lib/python3.8/site-packages/sklearn/linear_model/_coordinate_descent.py:647: ConvergenceWarning: Objective did not converge. You might want to increase the number of iterations, check the scale of the features or consider increasing regularisation. Duality gap: 5.671e+00, tolerance: 1.088e-01\n",
      "  model = cd_fast.enet_coordinate_descent(\n",
      "/home/ying/.local/lib/python3.8/site-packages/sklearn/linear_model/_coordinate_descent.py:647: ConvergenceWarning: Objective did not converge. You might want to increase the number of iterations, check the scale of the features or consider increasing regularisation. Duality gap: 6.237e+00, tolerance: 1.041e-01\n",
      "  model = cd_fast.enet_coordinate_descent(\n",
      "/home/ying/.local/lib/python3.8/site-packages/sklearn/linear_model/_coordinate_descent.py:647: ConvergenceWarning: Objective did not converge. You might want to increase the number of iterations, check the scale of the features or consider increasing regularisation. Duality gap: 5.681e+00, tolerance: 1.107e-01\n",
      "  model = cd_fast.enet_coordinate_descent(\n",
      "/home/ying/.local/lib/python3.8/site-packages/sklearn/linear_model/_coordinate_descent.py:647: ConvergenceWarning: Objective did not converge. You might want to increase the number of iterations, check the scale of the features or consider increasing regularisation. Duality gap: 5.164e+00, tolerance: 9.942e-02\n",
      "  model = cd_fast.enet_coordinate_descent(\n",
      "/home/ying/.local/lib/python3.8/site-packages/sklearn/linear_model/_coordinate_descent.py:647: ConvergenceWarning: Objective did not converge. You might want to increase the number of iterations, check the scale of the features or consider increasing regularisation. Duality gap: 5.180e+00, tolerance: 9.942e-02\n",
      "  model = cd_fast.enet_coordinate_descent(\n",
      "/home/ying/.local/lib/python3.8/site-packages/sklearn/linear_model/_coordinate_descent.py:647: ConvergenceWarning: Objective did not converge. You might want to increase the number of iterations, check the scale of the features or consider increasing regularisation. Duality gap: 5.666e+00, tolerance: 1.107e-01\n",
      "  model = cd_fast.enet_coordinate_descent(\n",
      "/home/ying/.local/lib/python3.8/site-packages/sklearn/linear_model/_coordinate_descent.py:647: ConvergenceWarning: Objective did not converge. You might want to increase the number of iterations, check the scale of the features or consider increasing regularisation. Duality gap: 5.063e+00, tolerance: 1.022e-01\n",
      "  model = cd_fast.enet_coordinate_descent(\n",
      "/home/ying/.local/lib/python3.8/site-packages/sklearn/linear_model/_coordinate_descent.py:647: ConvergenceWarning: Objective did not converge. You might want to increase the number of iterations, check the scale of the features or consider increasing regularisation. Duality gap: 5.673e+00, tolerance: 1.107e-01\n",
      "  model = cd_fast.enet_coordinate_descent(\n",
      "/home/ying/.local/lib/python3.8/site-packages/sklearn/linear_model/_coordinate_descent.py:647: ConvergenceWarning: Objective did not converge. You might want to increase the number of iterations, check the scale of the features or consider increasing regularisation. Duality gap: 6.259e+00, tolerance: 1.041e-01\n",
      "  model = cd_fast.enet_coordinate_descent(\n",
      "/home/ying/.local/lib/python3.8/site-packages/sklearn/linear_model/_coordinate_descent.py:647: ConvergenceWarning: Objective did not converge. You might want to increase the number of iterations, check the scale of the features or consider increasing regularisation. Duality gap: 5.689e+00, tolerance: 1.107e-01\n",
      "  model = cd_fast.enet_coordinate_descent(\n",
      "/home/ying/.local/lib/python3.8/site-packages/sklearn/linear_model/_coordinate_descent.py:647: ConvergenceWarning: Objective did not converge. You might want to increase the number of iterations, check the scale of the features or consider increasing regularisation. Duality gap: 5.657e+00, tolerance: 1.088e-01\n",
      "  model = cd_fast.enet_coordinate_descent(\n",
      "/home/ying/.local/lib/python3.8/site-packages/sklearn/linear_model/_coordinate_descent.py:647: ConvergenceWarning: Objective did not converge. You might want to increase the number of iterations, check the scale of the features or consider increasing regularisation. Duality gap: 5.079e+00, tolerance: 1.022e-01\n",
      "  model = cd_fast.enet_coordinate_descent(\n",
      "/home/ying/.local/lib/python3.8/site-packages/sklearn/linear_model/_coordinate_descent.py:647: ConvergenceWarning: Objective did not converge. You might want to increase the number of iterations, check the scale of the features or consider increasing regularisation. Duality gap: 6.244e+00, tolerance: 1.041e-01\n",
      "  model = cd_fast.enet_coordinate_descent(\n",
      "/home/ying/.local/lib/python3.8/site-packages/sklearn/linear_model/_coordinate_descent.py:647: ConvergenceWarning: Objective did not converge. You might want to increase the number of iterations, check the scale of the features or consider increasing regularisation. Duality gap: 5.172e+00, tolerance: 9.942e-02\n",
      "  model = cd_fast.enet_coordinate_descent(\n",
      "/home/ying/.local/lib/python3.8/site-packages/sklearn/linear_model/_coordinate_descent.py:647: ConvergenceWarning: Objective did not converge. You might want to increase the number of iterations, check the scale of the features or consider increasing regularisation. Duality gap: 5.714e+00, tolerance: 1.088e-01\n",
      "  model = cd_fast.enet_coordinate_descent(\n",
      "/home/ying/.local/lib/python3.8/site-packages/sklearn/linear_model/_coordinate_descent.py:647: ConvergenceWarning: Objective did not converge. You might want to increase the number of iterations, check the scale of the features or consider increasing regularisation. Duality gap: 6.267e+00, tolerance: 1.041e-01\n",
      "  model = cd_fast.enet_coordinate_descent(\n",
      "/home/ying/.local/lib/python3.8/site-packages/sklearn/linear_model/_coordinate_descent.py:647: ConvergenceWarning: Objective did not converge. You might want to increase the number of iterations, check the scale of the features or consider increasing regularisation. Duality gap: 5.696e+00, tolerance: 1.088e-01\n",
      "  model = cd_fast.enet_coordinate_descent(\n",
      "/home/ying/.local/lib/python3.8/site-packages/sklearn/linear_model/_coordinate_descent.py:647: ConvergenceWarning: Objective did not converge. You might want to increase the number of iterations, check the scale of the features or consider increasing regularisation. Duality gap: 5.188e+00, tolerance: 9.942e-02\n",
      "  model = cd_fast.enet_coordinate_descent(\n",
      "/home/ying/.local/lib/python3.8/site-packages/sklearn/linear_model/_coordinate_descent.py:647: ConvergenceWarning: Objective did not converge. You might want to increase the number of iterations, check the scale of the features or consider increasing regularisation. Duality gap: 6.284e+00, tolerance: 1.041e-01\n",
      "  model = cd_fast.enet_coordinate_descent(\n",
      "/home/ying/.local/lib/python3.8/site-packages/sklearn/linear_model/_coordinate_descent.py:647: ConvergenceWarning: Objective did not converge. You might want to increase the number of iterations, check the scale of the features or consider increasing regularisation. Duality gap: 5.071e+00, tolerance: 1.022e-01\n",
      "  model = cd_fast.enet_coordinate_descent(\n",
      "/home/ying/.local/lib/python3.8/site-packages/sklearn/linear_model/_coordinate_descent.py:647: ConvergenceWarning: Objective did not converge. You might want to increase the number of iterations, check the scale of the features or consider increasing regularisation. Duality gap: 5.689e+00, tolerance: 1.088e-01\n",
      "  model = cd_fast.enet_coordinate_descent(\n",
      "/home/ying/.local/lib/python3.8/site-packages/sklearn/linear_model/_coordinate_descent.py:647: ConvergenceWarning: Objective did not converge. You might want to increase the number of iterations, check the scale of the features or consider increasing regularisation. Duality gap: 5.216e+00, tolerance: 9.942e-02\n",
      "  model = cd_fast.enet_coordinate_descent(\n",
      "/home/ying/.local/lib/python3.8/site-packages/sklearn/linear_model/_coordinate_descent.py:647: ConvergenceWarning: Objective did not converge. You might want to increase the number of iterations, check the scale of the features or consider increasing regularisation. Duality gap: 5.715e+00, tolerance: 1.107e-01\n",
      "  model = cd_fast.enet_coordinate_descent(\n",
      "/home/ying/.local/lib/python3.8/site-packages/sklearn/linear_model/_coordinate_descent.py:647: ConvergenceWarning: Objective did not converge. You might want to increase the number of iterations, check the scale of the features or consider increasing regularisation. Duality gap: 5.088e+00, tolerance: 1.022e-01\n",
      "  model = cd_fast.enet_coordinate_descent(\n",
      "/home/ying/.local/lib/python3.8/site-packages/sklearn/linear_model/_coordinate_descent.py:647: ConvergenceWarning: Objective did not converge. You might want to increase the number of iterations, check the scale of the features or consider increasing regularisation. Duality gap: 5.705e+00, tolerance: 1.088e-01\n",
      "  model = cd_fast.enet_coordinate_descent(\n",
      "/home/ying/.local/lib/python3.8/site-packages/sklearn/linear_model/_coordinate_descent.py:647: ConvergenceWarning: Objective did not converge. You might want to increase the number of iterations, check the scale of the features or consider increasing regularisation. Duality gap: 5.697e+00, tolerance: 1.107e-01\n",
      "  model = cd_fast.enet_coordinate_descent(\n",
      "/home/ying/.local/lib/python3.8/site-packages/sklearn/linear_model/_coordinate_descent.py:647: ConvergenceWarning: Objective did not converge. You might want to increase the number of iterations, check the scale of the features or consider increasing regularisation. Duality gap: 5.735e+00, tolerance: 1.088e-01\n",
      "  model = cd_fast.enet_coordinate_descent(\n",
      "/home/ying/.local/lib/python3.8/site-packages/sklearn/linear_model/_coordinate_descent.py:647: ConvergenceWarning: Objective did not converge. You might want to increase the number of iterations, check the scale of the features or consider increasing regularisation. Duality gap: 5.724e+00, tolerance: 1.107e-01\n",
      "  model = cd_fast.enet_coordinate_descent(\n",
      "/home/ying/.local/lib/python3.8/site-packages/sklearn/linear_model/_coordinate_descent.py:647: ConvergenceWarning: Objective did not converge. You might want to increase the number of iterations, check the scale of the features or consider increasing regularisation. Duality gap: 6.293e+00, tolerance: 1.041e-01\n",
      "  model = cd_fast.enet_coordinate_descent(\n",
      "/home/ying/.local/lib/python3.8/site-packages/sklearn/linear_model/_coordinate_descent.py:647: ConvergenceWarning: Objective did not converge. You might want to increase the number of iterations, check the scale of the features or consider increasing regularisation. Duality gap: 5.097e+00, tolerance: 1.022e-01\n",
      "  model = cd_fast.enet_coordinate_descent(\n",
      "/home/ying/.local/lib/python3.8/site-packages/sklearn/linear_model/_coordinate_descent.py:647: ConvergenceWarning: Objective did not converge. You might want to increase the number of iterations, check the scale of the features or consider increasing regularisation. Duality gap: 5.197e+00, tolerance: 9.942e-02\n",
      "  model = cd_fast.enet_coordinate_descent(\n",
      "/home/ying/.local/lib/python3.8/site-packages/sklearn/linear_model/_coordinate_descent.py:647: ConvergenceWarning: Objective did not converge. You might want to increase the number of iterations, check the scale of the features or consider increasing regularisation. Duality gap: 6.275e+00, tolerance: 1.041e-01\n",
      "  model = cd_fast.enet_coordinate_descent(\n",
      "/home/ying/.local/lib/python3.8/site-packages/sklearn/linear_model/_coordinate_descent.py:647: ConvergenceWarning: Objective did not converge. You might want to increase the number of iterations, check the scale of the features or consider increasing regularisation. Duality gap: 6.323e+00, tolerance: 1.041e-01\n",
      "  model = cd_fast.enet_coordinate_descent(\n",
      "/home/ying/.local/lib/python3.8/site-packages/sklearn/linear_model/_coordinate_descent.py:647: ConvergenceWarning: Objective did not converge. You might want to increase the number of iterations, check the scale of the features or consider increasing regularisation. Duality gap: 5.226e+00, tolerance: 9.942e-02\n",
      "  model = cd_fast.enet_coordinate_descent(\n",
      "/home/ying/.local/lib/python3.8/site-packages/sklearn/linear_model/_coordinate_descent.py:647: ConvergenceWarning: Objective did not converge. You might want to increase the number of iterations, check the scale of the features or consider increasing regularisation. Duality gap: 5.706e+00, tolerance: 1.107e-01\n",
      "  model = cd_fast.enet_coordinate_descent(\n",
      "/home/ying/.local/lib/python3.8/site-packages/sklearn/linear_model/_coordinate_descent.py:647: ConvergenceWarning: Objective did not converge. You might want to increase the number of iterations, check the scale of the features or consider increasing regularisation. Duality gap: 5.206e+00, tolerance: 9.942e-02\n",
      "  model = cd_fast.enet_coordinate_descent(\n",
      "/home/ying/.local/lib/python3.8/site-packages/sklearn/linear_model/_coordinate_descent.py:647: ConvergenceWarning: Objective did not converge. You might want to increase the number of iterations, check the scale of the features or consider increasing regularisation. Duality gap: 6.302e+00, tolerance: 1.041e-01\n",
      "  model = cd_fast.enet_coordinate_descent(\n",
      "/home/ying/.local/lib/python3.8/site-packages/sklearn/linear_model/_coordinate_descent.py:647: ConvergenceWarning: Objective did not converge. You might want to increase the number of iterations, check the scale of the features or consider increasing regularisation. Duality gap: 5.715e+00, tolerance: 1.088e-01\n",
      "  model = cd_fast.enet_coordinate_descent(\n",
      "/home/ying/.local/lib/python3.8/site-packages/sklearn/linear_model/_coordinate_descent.py:647: ConvergenceWarning: Objective did not converge. You might want to increase the number of iterations, check the scale of the features or consider increasing regularisation. Duality gap: 5.755e+00, tolerance: 1.107e-01\n",
      "  model = cd_fast.enet_coordinate_descent(\n",
      "/home/ying/.local/lib/python3.8/site-packages/sklearn/linear_model/_coordinate_descent.py:647: ConvergenceWarning: Objective did not converge. You might want to increase the number of iterations, check the scale of the features or consider increasing regularisation. Duality gap: 5.745e+00, tolerance: 1.088e-01\n",
      "  model = cd_fast.enet_coordinate_descent(\n",
      "/home/ying/.local/lib/python3.8/site-packages/sklearn/linear_model/_coordinate_descent.py:647: ConvergenceWarning: Objective did not converge. You might want to increase the number of iterations, check the scale of the features or consider increasing regularisation. Duality gap: 5.734e+00, tolerance: 1.107e-01\n",
      "  model = cd_fast.enet_coordinate_descent(\n",
      "/home/ying/.local/lib/python3.8/site-packages/sklearn/linear_model/_coordinate_descent.py:647: ConvergenceWarning: Objective did not converge. You might want to increase the number of iterations, check the scale of the features or consider increasing regularisation. Duality gap: 5.236e+00, tolerance: 9.942e-02\n",
      "  model = cd_fast.enet_coordinate_descent(\n",
      "/home/ying/.local/lib/python3.8/site-packages/sklearn/linear_model/_coordinate_descent.py:647: ConvergenceWarning: Objective did not converge. You might want to increase the number of iterations, check the scale of the features or consider increasing regularisation. Duality gap: 5.107e+00, tolerance: 1.022e-01\n",
      "  model = cd_fast.enet_coordinate_descent(\n",
      "/home/ying/.local/lib/python3.8/site-packages/sklearn/linear_model/_coordinate_descent.py:647: ConvergenceWarning: Objective did not converge. You might want to increase the number of iterations, check the scale of the features or consider increasing regularisation. Duality gap: 5.258e+00, tolerance: 9.942e-02\n",
      "  model = cd_fast.enet_coordinate_descent(\n",
      "/home/ying/.local/lib/python3.8/site-packages/sklearn/linear_model/_coordinate_descent.py:647: ConvergenceWarning: Objective did not converge. You might want to increase the number of iterations, check the scale of the features or consider increasing regularisation. Duality gap: 6.333e+00, tolerance: 1.041e-01\n",
      "  model = cd_fast.enet_coordinate_descent(\n",
      "/home/ying/.local/lib/python3.8/site-packages/sklearn/linear_model/_coordinate_descent.py:647: ConvergenceWarning: Objective did not converge. You might want to increase the number of iterations, check the scale of the features or consider increasing regularisation. Duality gap: 5.744e+00, tolerance: 1.107e-01\n",
      "  model = cd_fast.enet_coordinate_descent(\n",
      "/home/ying/.local/lib/python3.8/site-packages/sklearn/linear_model/_coordinate_descent.py:647: ConvergenceWarning: Objective did not converge. You might want to increase the number of iterations, check the scale of the features or consider increasing regularisation. Duality gap: 6.312e+00, tolerance: 1.041e-01\n",
      "  model = cd_fast.enet_coordinate_descent(\n",
      "/home/ying/.local/lib/python3.8/site-packages/sklearn/linear_model/_coordinate_descent.py:647: ConvergenceWarning: Objective did not converge. You might want to increase the number of iterations, check the scale of the features or consider increasing regularisation. Duality gap: 5.724e+00, tolerance: 1.088e-01\n",
      "  model = cd_fast.enet_coordinate_descent(\n",
      "/home/ying/.local/lib/python3.8/site-packages/sklearn/linear_model/_coordinate_descent.py:647: ConvergenceWarning: Objective did not converge. You might want to increase the number of iterations, check the scale of the features or consider increasing regularisation. Duality gap: 5.757e+00, tolerance: 1.088e-01\n",
      "  model = cd_fast.enet_coordinate_descent(\n",
      "/home/ying/.local/lib/python3.8/site-packages/sklearn/linear_model/_coordinate_descent.py:647: ConvergenceWarning: Objective did not converge. You might want to increase the number of iterations, check the scale of the features or consider increasing regularisation. Duality gap: 5.766e+00, tolerance: 1.107e-01\n",
      "  model = cd_fast.enet_coordinate_descent(\n",
      "/home/ying/.local/lib/python3.8/site-packages/sklearn/linear_model/_coordinate_descent.py:647: ConvergenceWarning: Objective did not converge. You might want to increase the number of iterations, check the scale of the features or consider increasing regularisation. Duality gap: 5.247e+00, tolerance: 9.942e-02\n",
      "  model = cd_fast.enet_coordinate_descent(\n",
      "/home/ying/.local/lib/python3.8/site-packages/sklearn/linear_model/_coordinate_descent.py:647: ConvergenceWarning: Objective did not converge. You might want to increase the number of iterations, check the scale of the features or consider increasing regularisation. Duality gap: 5.780e+00, tolerance: 1.088e-01\n",
      "  model = cd_fast.enet_coordinate_descent(\n",
      "/home/ying/.local/lib/python3.8/site-packages/sklearn/linear_model/_coordinate_descent.py:647: ConvergenceWarning: Objective did not converge. You might want to increase the number of iterations, check the scale of the features or consider increasing regularisation. Duality gap: 5.270e+00, tolerance: 9.942e-02\n",
      "  model = cd_fast.enet_coordinate_descent(\n",
      "/home/ying/.local/lib/python3.8/site-packages/sklearn/linear_model/_coordinate_descent.py:647: ConvergenceWarning: Objective did not converge. You might want to increase the number of iterations, check the scale of the features or consider increasing regularisation. Duality gap: 5.802e+00, tolerance: 1.107e-01\n",
      "  model = cd_fast.enet_coordinate_descent(\n",
      "/home/ying/.local/lib/python3.8/site-packages/sklearn/linear_model/_coordinate_descent.py:647: ConvergenceWarning: Objective did not converge. You might want to increase the number of iterations, check the scale of the features or consider increasing regularisation. Duality gap: 6.344e+00, tolerance: 1.041e-01\n",
      "  model = cd_fast.enet_coordinate_descent(\n",
      "/home/ying/.local/lib/python3.8/site-packages/sklearn/linear_model/_coordinate_descent.py:647: ConvergenceWarning: Objective did not converge. You might want to increase the number of iterations, check the scale of the features or consider increasing regularisation. Duality gap: 6.367e+00, tolerance: 1.041e-01\n",
      "  model = cd_fast.enet_coordinate_descent(\n",
      "/home/ying/.local/lib/python3.8/site-packages/sklearn/linear_model/_coordinate_descent.py:647: ConvergenceWarning: Objective did not converge. You might want to increase the number of iterations, check the scale of the features or consider increasing regularisation. Duality gap: 6.379e+00, tolerance: 1.041e-01\n",
      "  model = cd_fast.enet_coordinate_descent(\n",
      "/home/ying/.local/lib/python3.8/site-packages/sklearn/linear_model/_coordinate_descent.py:647: ConvergenceWarning: Objective did not converge. You might want to increase the number of iterations, check the scale of the features or consider increasing regularisation. Duality gap: 5.768e+00, tolerance: 1.088e-01\n",
      "  model = cd_fast.enet_coordinate_descent(\n",
      "/home/ying/.local/lib/python3.8/site-packages/sklearn/linear_model/_coordinate_descent.py:647: ConvergenceWarning: Objective did not converge. You might want to increase the number of iterations, check the scale of the features or consider increasing regularisation. Duality gap: 5.793e+00, tolerance: 1.088e-01\n",
      "  model = cd_fast.enet_coordinate_descent(\n",
      "/home/ying/.local/lib/python3.8/site-packages/sklearn/linear_model/_coordinate_descent.py:647: ConvergenceWarning: Objective did not converge. You might want to increase the number of iterations, check the scale of the features or consider increasing regularisation. Duality gap: 5.778e+00, tolerance: 1.107e-01\n",
      "  model = cd_fast.enet_coordinate_descent(\n",
      "/home/ying/.local/lib/python3.8/site-packages/sklearn/linear_model/_coordinate_descent.py:647: ConvergenceWarning: Objective did not converge. You might want to increase the number of iterations, check the scale of the features or consider increasing regularisation. Duality gap: 5.815e+00, tolerance: 1.107e-01\n",
      "  model = cd_fast.enet_coordinate_descent(\n",
      "/home/ying/.local/lib/python3.8/site-packages/sklearn/linear_model/_coordinate_descent.py:647: ConvergenceWarning: Objective did not converge. You might want to increase the number of iterations, check the scale of the features or consider increasing regularisation. Duality gap: 5.806e+00, tolerance: 1.088e-01\n",
      "  model = cd_fast.enet_coordinate_descent(\n",
      "/home/ying/.local/lib/python3.8/site-packages/sklearn/linear_model/_coordinate_descent.py:647: ConvergenceWarning: Objective did not converge. You might want to increase the number of iterations, check the scale of the features or consider increasing regularisation. Duality gap: 5.282e+00, tolerance: 9.942e-02\n",
      "  model = cd_fast.enet_coordinate_descent(\n",
      "/home/ying/.local/lib/python3.8/site-packages/sklearn/linear_model/_coordinate_descent.py:647: ConvergenceWarning: Objective did not converge. You might want to increase the number of iterations, check the scale of the features or consider increasing regularisation. Duality gap: 6.355e+00, tolerance: 1.041e-01\n",
      "  model = cd_fast.enet_coordinate_descent(\n",
      "/home/ying/.local/lib/python3.8/site-packages/sklearn/linear_model/_coordinate_descent.py:647: ConvergenceWarning: Objective did not converge. You might want to increase the number of iterations, check the scale of the features or consider increasing regularisation. Duality gap: 5.829e+00, tolerance: 1.107e-01\n",
      "  model = cd_fast.enet_coordinate_descent(\n",
      "/home/ying/.local/lib/python3.8/site-packages/sklearn/linear_model/_coordinate_descent.py:647: ConvergenceWarning: Objective did not converge. You might want to increase the number of iterations, check the scale of the features or consider increasing regularisation. Duality gap: 6.391e+00, tolerance: 1.041e-01\n",
      "  model = cd_fast.enet_coordinate_descent(\n",
      "/home/ying/.local/lib/python3.8/site-packages/sklearn/linear_model/_coordinate_descent.py:647: ConvergenceWarning: Objective did not converge. You might want to increase the number of iterations, check the scale of the features or consider increasing regularisation. Duality gap: 5.833e+00, tolerance: 1.088e-01\n",
      "  model = cd_fast.enet_coordinate_descent(\n",
      "/home/ying/.local/lib/python3.8/site-packages/sklearn/linear_model/_coordinate_descent.py:647: ConvergenceWarning: Objective did not converge. You might want to increase the number of iterations, check the scale of the features or consider increasing regularisation. Duality gap: 6.404e+00, tolerance: 1.041e-01\n",
      "  model = cd_fast.enet_coordinate_descent(\n",
      "/home/ying/.local/lib/python3.8/site-packages/sklearn/linear_model/_coordinate_descent.py:647: ConvergenceWarning: Objective did not converge. You might want to increase the number of iterations, check the scale of the features or consider increasing regularisation. Duality gap: 5.790e+00, tolerance: 1.107e-01\n",
      "  model = cd_fast.enet_coordinate_descent(\n",
      "/home/ying/.local/lib/python3.8/site-packages/sklearn/linear_model/_coordinate_descent.py:647: ConvergenceWarning: Objective did not converge. You might want to increase the number of iterations, check the scale of the features or consider increasing regularisation. Duality gap: 5.819e+00, tolerance: 1.088e-01\n",
      "  model = cd_fast.enet_coordinate_descent(\n",
      "/home/ying/.local/lib/python3.8/site-packages/sklearn/linear_model/_coordinate_descent.py:647: ConvergenceWarning: Objective did not converge. You might want to increase the number of iterations, check the scale of the features or consider increasing regularisation. Duality gap: 6.417e+00, tolerance: 1.041e-01\n",
      "  model = cd_fast.enet_coordinate_descent(\n",
      "/home/ying/.local/lib/python3.8/site-packages/sklearn/linear_model/_coordinate_descent.py:647: ConvergenceWarning: Objective did not converge. You might want to increase the number of iterations, check the scale of the features or consider increasing regularisation. Duality gap: 5.847e+00, tolerance: 1.088e-01\n",
      "  model = cd_fast.enet_coordinate_descent(\n",
      "/home/ying/.local/lib/python3.8/site-packages/sklearn/linear_model/_coordinate_descent.py:647: ConvergenceWarning: Objective did not converge. You might want to increase the number of iterations, check the scale of the features or consider increasing regularisation. Duality gap: 5.857e+00, tolerance: 1.107e-01\n",
      "  model = cd_fast.enet_coordinate_descent(\n",
      "/home/ying/.local/lib/python3.8/site-packages/sklearn/linear_model/_coordinate_descent.py:647: ConvergenceWarning: Objective did not converge. You might want to increase the number of iterations, check the scale of the features or consider increasing regularisation. Duality gap: 5.842e+00, tolerance: 1.107e-01\n",
      "  model = cd_fast.enet_coordinate_descent(\n",
      "/home/ying/.local/lib/python3.8/site-packages/sklearn/linear_model/_coordinate_descent.py:647: ConvergenceWarning: Objective did not converge. You might want to increase the number of iterations, check the scale of the features or consider increasing regularisation. Duality gap: 6.430e+00, tolerance: 1.041e-01\n",
      "  model = cd_fast.enet_coordinate_descent(\n",
      "/home/ying/.local/lib/python3.8/site-packages/sklearn/linear_model/_coordinate_descent.py:647: ConvergenceWarning: Objective did not converge. You might want to increase the number of iterations, check the scale of the features or consider increasing regularisation. Duality gap: 6.471e+00, tolerance: 1.041e-01\n",
      "  model = cd_fast.enet_coordinate_descent(\n",
      "/home/ying/.local/lib/python3.8/site-packages/sklearn/linear_model/_coordinate_descent.py:647: ConvergenceWarning: Objective did not converge. You might want to increase the number of iterations, check the scale of the features or consider increasing regularisation. Duality gap: 5.871e+00, tolerance: 1.107e-01\n",
      "  model = cd_fast.enet_coordinate_descent(\n",
      "/home/ying/.local/lib/python3.8/site-packages/sklearn/linear_model/_coordinate_descent.py:647: ConvergenceWarning: Objective did not converge. You might want to increase the number of iterations, check the scale of the features or consider increasing regularisation. Duality gap: 6.485e+00, tolerance: 1.041e-01\n",
      "  model = cd_fast.enet_coordinate_descent(\n",
      "/home/ying/.local/lib/python3.8/site-packages/sklearn/linear_model/_coordinate_descent.py:647: ConvergenceWarning: Objective did not converge. You might want to increase the number of iterations, check the scale of the features or consider increasing regularisation. Duality gap: 5.887e+00, tolerance: 1.107e-01\n",
      "  model = cd_fast.enet_coordinate_descent(\n",
      "/home/ying/.local/lib/python3.8/site-packages/sklearn/linear_model/_coordinate_descent.py:647: ConvergenceWarning: Objective did not converge. You might want to increase the number of iterations, check the scale of the features or consider increasing regularisation. Duality gap: 6.444e+00, tolerance: 1.041e-01\n",
      "  model = cd_fast.enet_coordinate_descent(\n",
      "/home/ying/.local/lib/python3.8/site-packages/sklearn/linear_model/_coordinate_descent.py:647: ConvergenceWarning: Objective did not converge. You might want to increase the number of iterations, check the scale of the features or consider increasing regularisation. Duality gap: 6.457e+00, tolerance: 1.041e-01\n",
      "  model = cd_fast.enet_coordinate_descent(\n",
      "/home/ying/.local/lib/python3.8/site-packages/sklearn/linear_model/_coordinate_descent.py:647: ConvergenceWarning: Objective did not converge. You might want to increase the number of iterations, check the scale of the features or consider increasing regularisation. Duality gap: 6.499e+00, tolerance: 1.041e-01\n",
      "  model = cd_fast.enet_coordinate_descent(\n",
      "/home/ying/.local/lib/python3.8/site-packages/sklearn/linear_model/_coordinate_descent.py:647: ConvergenceWarning: Objective did not converge. You might want to increase the number of iterations, check the scale of the features or consider increasing regularisation. Duality gap: 5.902e+00, tolerance: 1.107e-01\n",
      "  model = cd_fast.enet_coordinate_descent(\n",
      "/home/ying/.local/lib/python3.8/site-packages/sklearn/linear_model/_coordinate_descent.py:647: ConvergenceWarning: Objective did not converge. You might want to increase the number of iterations, check the scale of the features or consider increasing regularisation. Duality gap: 6.526e+00, tolerance: 1.041e-01\n",
      "  model = cd_fast.enet_coordinate_descent(\n",
      "/home/ying/.local/lib/python3.8/site-packages/sklearn/linear_model/_coordinate_descent.py:647: ConvergenceWarning: Objective did not converge. You might want to increase the number of iterations, check the scale of the features or consider increasing regularisation. Duality gap: 6.512e+00, tolerance: 1.041e-01\n",
      "  model = cd_fast.enet_coordinate_descent(\n"
     ]
    },
    {
     "name": "stdout",
     "output_type": "stream",
     "text": [
      "Train set : Meilleur paramètre alpha = 0.001016\n",
      "\n",
      "=== La performnce du modèle : Régression Lasso avec GridSearchCV ===\n",
      "R2 = 0.642658 , \n",
      "RMSE = 0.8651017747572147\n"
     ]
    }
   ],
   "source": [
    "from sklearn.model_selection import GridSearchCV\n",
    "# grille de valeurs du paramètre alpha à optimiser\n",
    "n_alphas = 300\n",
    "alphas = np.logspace(-4, 3, n_alphas).tolist()\n",
    "param=[{\"alpha\":alphas}]\n",
    "\n",
    "regLasso = GridSearchCV(linear_model.Lasso(), param,cv=5,n_jobs=-1)\n",
    "regLassOpt=regLasso.fit(X_train, y_train)\n",
    "\n",
    "# paramètre optimal\n",
    "print(\"Train set : Meilleur paramètre alpha = %f\" % regLassOpt.best_params_['alpha'])\n",
    "\n",
    "# Prévision de l'échantillon de test\n",
    "predLassOpt=regLassOpt.predict(X_test)\n",
    "\n",
    "# Performence du modèle\n",
    "print(\"\\n=== La performnce du modèle : Régression Lasso avec GridSearchCV ===\")\n",
    "print(\"R2 = %f , \\nRMSE = %s\"% (r2_score(y_test,predLassOpt), np.sqrt(mean_squared_error(predLassOpt,y_test))))"
   ]
  },
  {
   "cell_type": "code",
   "execution_count": 123,
   "metadata": {},
   "outputs": [
    {
     "data": {
      "text/plain": [
       "array([ 0.16187742,  0.        , -0.08339594,  0.1907441 ,  0.11149242,\n",
       "        0.42660108,  0.        ,  0.3786541 , -0.30795628,  0.14457783,\n",
       "       -0.6986163 ,  0.        ,  0.02302261,  0.04018824, -0.        ,\n",
       "        0.04848746, -0.07620458, -0.08208821, -0.02748931,  0.21264883])"
      ]
     },
     "execution_count": 123,
     "metadata": {},
     "output_type": "execute_result"
    }
   ],
   "source": [
    "# Coefficients\n",
    "regLasso=linear_model.Lasso(alpha=regLassOpt.best_params_['alpha'])\n",
    "model_lasso=regLasso.fit(X_train,y_train)\n",
    "model_lasso.coef_"
   ]
  },
  {
   "cell_type": "code",
   "execution_count": 124,
   "metadata": {},
   "outputs": [
    {
     "name": "stdout",
     "output_type": "stream",
     "text": [
      "Lasso conserve 16 variables et en supprime 4\n"
     ]
    }
   ],
   "source": [
    "coef = pd.Series(model_lasso.coef_, index = X_train.columns)\n",
    "print(\"Lasso conserve \" + str(sum(coef != 0)) + \n",
    "      \" variables et en supprime \" +  str(sum(coef == 0)))"
   ]
  },
  {
   "cell_type": "code",
   "execution_count": 125,
   "metadata": {},
   "outputs": [
    {
     "data": {
      "text/plain": [
       "Text(0.5, 1.0, 'Coefficients du modèle lasso')"
      ]
     },
     "execution_count": 125,
     "metadata": {},
     "output_type": "execute_result"
    },
    {
     "data": {
      "image/png": "[encoded data removed]",
      "text/plain": [
       "<Figure size 576x576 with 1 Axes>"
      ]
     },
     "metadata": {
      "needs_background": "light"
     },
     "output_type": "display_data"
    }
   ],
   "source": [
    "imp_coef = coef.sort_values()\n",
    "plt.rcParams['figure.figsize'] = (8.0, 8.0)\n",
    "imp_coef.plot(kind = \"barh\")\n",
    "plt.title(u\"Coefficients du modèle lasso\")"
   ]
  },
  {
   "cell_type": "markdown",
   "metadata": {},
   "source": [
    "<span style=\"color: #FF00FF\"> @ SVR : `GridSearchCV`\n",
    "-\n",
    "- Créatoin du modèle\n",
    "- Performence du modèle\n",
    "</span>\n"
   ]
  },
  {
   "cell_type": "code",
   "execution_count": 126,
   "metadata": {},
   "outputs": [
    {
     "name": "stdout",
     "output_type": "stream",
     "text": [
      "Fitting 5 folds for each of 72 candidates, totalling 360 fits\n",
      "[CV] END ..C=1, coef0=0.01, degree=3, gamma=auto, kernel=rbf; total time=   0.1s\n",
      "[CV] END C=1, coef0=0.01, degree=3, gamma=auto, kernel=linear; total time=   0.1s\n",
      "[CV] END C=1, coef0=0.01, degree=3, gamma=auto, kernel=linear; total time=   0.1s\n",
      "[CV] END C=1, coef0=0.01, degree=3, gamma=auto, kernel=linear; total time=   0.1s\n",
      "[CV] END ..C=1, coef0=0.01, degree=3, gamma=auto, kernel=rbf; total time=   0.1s\n",
      "[CV] END C=1, coef0=0.01, degree=3, gamma=auto, kernel=linear; total time=   0.2s\n",
      "[CV] END ..C=1, coef0=0.01, degree=3, gamma=auto, kernel=rbf; total time=   0.1s\n",
      "[CV] END C=1, coef0=0.01, degree=3, gamma=auto, kernel=linear; total time=   0.2s\n",
      "[CV] END ..C=1, coef0=0.01, degree=3, gamma=auto, kernel=rbf; total time=   0.1s\n",
      "[CV] END ..C=1, coef0=0.01, degree=3, gamma=auto, kernel=rbf; total time=   0.1s\n",
      "[CV] END .C=1, coef0=0.01, degree=3, gamma=scale, kernel=rbf; total time=   0.1s\n",
      "[CV] END C=1, coef0=0.01, degree=3, gamma=scale, kernel=linear; total time=   0.1s\n",
      "[CV] END C=1, coef0=0.01, degree=3, gamma=scale, kernel=linear; total time=   0.1s\n",
      "[CV] END C=1, coef0=0.01, degree=3, gamma=scale, kernel=linear; total time=   0.2s\n",
      "[CV] END C=1, coef0=0.01, degree=3, gamma=scale, kernel=linear; total time=   0.1s\n",
      "[CV] END .C=1, coef0=0.01, degree=3, gamma=scale, kernel=rbf; total time=   0.1s\n",
      "[CV] END C=1, coef0=0.01, degree=3, gamma=scale, kernel=linear; total time=   0.1s\n",
      "[CV] END .C=1, coef0=0.01, degree=3, gamma=scale, kernel=rbf; total time=   0.1s\n",
      "[CV] END .C=1, coef0=0.01, degree=3, gamma=scale, kernel=rbf; total time=   0.1s\n",
      "[CV] END .C=1, coef0=0.01, degree=3, gamma=scale, kernel=rbf; total time=   0.1s\n",
      "[CV] END ..C=1, coef0=0.01, degree=8, gamma=auto, kernel=rbf; total time=   0.1s\n",
      "[CV] END C=1, coef0=0.01, degree=8, gamma=auto, kernel=linear; total time=   0.1s\n",
      "[CV] END C=1, coef0=0.01, degree=8, gamma=auto, kernel=linear; total time=   0.1s\n",
      "[CV] END C=1, coef0=0.01, degree=8, gamma=auto, kernel=linear; total time=   0.1s\n",
      "[CV] END ..C=1, coef0=0.01, degree=8, gamma=auto, kernel=rbf; total time=   0.1s\n",
      "[CV] END C=1, coef0=0.01, degree=8, gamma=auto, kernel=linear; total time=   0.1s\n",
      "[CV] END C=1, coef0=0.01, degree=8, gamma=auto, kernel=linear; total time=   0.1s\n",
      "[CV] END ..C=1, coef0=0.01, degree=8, gamma=auto, kernel=rbf; total time=   0.1s\n",
      "[CV] END ..C=1, coef0=0.01, degree=8, gamma=auto, kernel=rbf; total time=   0.1s\n",
      "[CV] END ..C=1, coef0=0.01, degree=8, gamma=auto, kernel=rbf; total time=   0.1s\n",
      "[CV] END C=1, coef0=0.01, degree=8, gamma=scale, kernel=linear; total time=   0.1s\n",
      "[CV] END C=1, coef0=0.01, degree=8, gamma=scale, kernel=linear; total time=   0.1s\n",
      "[CV] END C=1, coef0=0.01, degree=8, gamma=scale, kernel=linear; total time=   0.1s\n",
      "[CV] END C=1, coef0=0.01, degree=8, gamma=scale, kernel=linear; total time=   0.1s\n",
      "[CV] END .C=1, coef0=0.01, degree=8, gamma=scale, kernel=rbf; total time=   0.1s\n",
      "[CV] END .C=1, coef0=0.01, degree=8, gamma=scale, kernel=rbf; total time=   0.1s\n",
      "[CV] END .C=1, coef0=0.01, degree=8, gamma=scale, kernel=rbf; total time=   0.1s\n",
      "[CV] END .C=1, coef0=0.01, degree=8, gamma=scale, kernel=rbf; total time=   0.1s\n",
      "[CV] END .C=1, coef0=0.01, degree=8, gamma=scale, kernel=rbf; total time=   0.1s\n",
      "[CV] END C=1, coef0=0.01, degree=8, gamma=scale, kernel=linear; total time=   0.2s\n",
      "[CV] END .C=1, coef0=10, degree=3, gamma=auto, kernel=linear; total time=   0.1s\n",
      "[CV] END .C=1, coef0=10, degree=3, gamma=auto, kernel=linear; total time=   0.1s\n",
      "[CV] END ....C=1, coef0=10, degree=3, gamma=auto, kernel=rbf; total time=   0.1s\n",
      "[CV] END ....C=1, coef0=10, degree=3, gamma=auto, kernel=rbf; total time=   0.1s\n",
      "[CV] END .C=1, coef0=10, degree=3, gamma=auto, kernel=linear; total time=   0.1s\n",
      "[CV] END .C=1, coef0=10, degree=3, gamma=auto, kernel=linear; total time=   0.1s\n",
      "[CV] END .C=1, coef0=10, degree=3, gamma=auto, kernel=linear; total time=   0.1s\n",
      "[CV] END ....C=1, coef0=10, degree=3, gamma=auto, kernel=rbf; total time=   0.1s\n",
      "[CV] END ....C=1, coef0=10, degree=3, gamma=auto, kernel=rbf; total time=   0.1s\n",
      "[CV] END ....C=1, coef0=10, degree=3, gamma=auto, kernel=rbf; total time=   0.1s\n",
      "[CV] END C=1, coef0=10, degree=3, gamma=scale, kernel=linear; total time=   0.1s\n",
      "[CV] END C=1, coef0=10, degree=3, gamma=scale, kernel=linear; total time=   0.1s\n",
      "[CV] END C=1, coef0=10, degree=3, gamma=scale, kernel=linear; total time=   0.1s\n",
      "[CV] END ...C=1, coef0=10, degree=3, gamma=scale, kernel=rbf; total time=   0.1s\n",
      "[CV] END ...C=1, coef0=10, degree=3, gamma=scale, kernel=rbf; total time=   0.1s\n",
      "[CV] END C=1, coef0=10, degree=3, gamma=scale, kernel=linear; total time=   0.1s\n",
      "[CV] END ...C=1, coef0=10, degree=3, gamma=scale, kernel=rbf; total time=   0.1s\n",
      "[CV] END C=1, coef0=10, degree=3, gamma=scale, kernel=linear; total time=   0.1s\n",
      "[CV] END ...C=1, coef0=10, degree=3, gamma=scale, kernel=rbf; total time=   0.1s\n",
      "[CV] END ...C=1, coef0=10, degree=3, gamma=scale, kernel=rbf; total time=   0.1s\n",
      "[CV] END .C=1, coef0=10, degree=8, gamma=auto, kernel=linear; total time=   0.1s\n",
      "[CV] END .C=1, coef0=10, degree=8, gamma=auto, kernel=linear; total time=   0.1s\n",
      "[CV] END ....C=1, coef0=10, degree=8, gamma=auto, kernel=rbf; total time=   0.1s\n",
      "[CV] END .C=1, coef0=10, degree=8, gamma=auto, kernel=linear; total time=   0.1s\n",
      "[CV] END .C=1, coef0=10, degree=8, gamma=auto, kernel=linear; total time=   0.1s\n",
      "[CV] END .C=1, coef0=10, degree=8, gamma=auto, kernel=linear; total time=   0.1s\n",
      "[CV] END ....C=1, coef0=10, degree=8, gamma=auto, kernel=rbf; total time=   0.1s\n",
      "[CV] END ....C=1, coef0=10, degree=8, gamma=auto, kernel=rbf; total time=   0.1s\n",
      "[CV] END ....C=1, coef0=10, degree=8, gamma=auto, kernel=rbf; total time=   0.1s\n",
      "[CV] END ....C=1, coef0=10, degree=8, gamma=auto, kernel=rbf; total time=   0.1s\n",
      "[CV] END ...C=1, coef0=10, degree=8, gamma=scale, kernel=rbf; total time=   0.1s\n",
      "[CV] END C=1, coef0=10, degree=8, gamma=scale, kernel=linear; total time=   0.1s\n",
      "[CV] END C=1, coef0=10, degree=8, gamma=scale, kernel=linear; total time=   0.1s\n",
      "[CV] END C=1, coef0=10, degree=8, gamma=scale, kernel=linear; total time=   0.1s\n",
      "[CV] END C=1, coef0=10, degree=8, gamma=scale, kernel=linear; total time=   0.1s\n",
      "[CV] END C=1, coef0=10, degree=8, gamma=scale, kernel=linear; total time=   0.2s\n",
      "[CV] END ...C=1, coef0=10, degree=8, gamma=scale, kernel=rbf; total time=   0.1s\n",
      "[CV] END ...C=1, coef0=10, degree=8, gamma=scale, kernel=rbf; total time=   0.1s\n",
      "[CV] END ...C=1, coef0=10, degree=8, gamma=scale, kernel=rbf; total time=   0.1s\n",
      "[CV] END ...C=1, coef0=10, degree=8, gamma=scale, kernel=rbf; total time=   0.1s\n",
      "[CV] END C=1, coef0=0.5, degree=3, gamma=auto, kernel=linear; total time=   0.2s\n",
      "[CV] END C=1, coef0=0.5, degree=3, gamma=auto, kernel=linear; total time=   0.2s\n",
      "[CV] END C=1, coef0=0.5, degree=3, gamma=auto, kernel=linear; total time=   0.1s\n",
      "[CV] END ...C=1, coef0=0.5, degree=3, gamma=auto, kernel=rbf; total time=   0.1s\n",
      "[CV] END ...C=1, coef0=0.5, degree=3, gamma=auto, kernel=rbf; total time=   0.1s\n",
      "[CV] END ...C=1, coef0=0.5, degree=3, gamma=auto, kernel=rbf; total time=   0.1s\n",
      "[CV] END C=1, coef0=0.5, degree=3, gamma=auto, kernel=linear; total time=   0.1s\n",
      "[CV] END C=1, coef0=0.5, degree=3, gamma=auto, kernel=linear; total time=   0.2s\n",
      "[CV] END ...C=1, coef0=0.5, degree=3, gamma=auto, kernel=rbf; total time=   0.1s\n",
      "[CV] END ...C=1, coef0=0.5, degree=3, gamma=auto, kernel=rbf; total time=   0.1s\n",
      "[CV] END C=1, coef0=0.5, degree=3, gamma=scale, kernel=linear; total time=   0.1s\n",
      "[CV] END C=1, coef0=0.5, degree=3, gamma=scale, kernel=linear; total time=   0.1s\n",
      "[CV] END C=1, coef0=0.5, degree=3, gamma=scale, kernel=linear; total time=   0.1s\n",
      "[CV] END ..C=1, coef0=0.5, degree=3, gamma=scale, kernel=rbf; total time=   0.1s\n",
      "[CV] END ..C=1, coef0=0.5, degree=3, gamma=scale, kernel=rbf; total time=   0.1s\n",
      "[CV] END C=1, coef0=0.5, degree=3, gamma=scale, kernel=linear; total time=   0.2s\n",
      "[CV] END ..C=1, coef0=0.5, degree=3, gamma=scale, kernel=rbf; total time=   0.1s\n",
      "[CV] END C=1, coef0=0.5, degree=3, gamma=scale, kernel=linear; total time=   0.1s\n",
      "[CV] END ..C=1, coef0=0.5, degree=3, gamma=scale, kernel=rbf; total time=   0.1s\n",
      "[CV] END ..C=1, coef0=0.5, degree=3, gamma=scale, kernel=rbf; total time=   0.1s\n",
      "[CV] END ...C=1, coef0=0.5, degree=8, gamma=auto, kernel=rbf; total time=   0.1s\n",
      "[CV] END C=1, coef0=0.5, degree=8, gamma=auto, kernel=linear; total time=   0.1s\n",
      "[CV] END C=1, coef0=0.5, degree=8, gamma=auto, kernel=linear; total time=   0.1s\n",
      "[CV] END C=1, coef0=0.5, degree=8, gamma=auto, kernel=linear; total time=   0.1s\n",
      "[CV] END C=1, coef0=0.5, degree=8, gamma=auto, kernel=linear; total time=   0.1s\n",
      "[CV] END ...C=1, coef0=0.5, degree=8, gamma=auto, kernel=rbf; total time=   0.1s\n",
      "[CV] END ...C=1, coef0=0.5, degree=8, gamma=auto, kernel=rbf; total time=   0.1s\n",
      "[CV] END C=1, coef0=0.5, degree=8, gamma=auto, kernel=linear; total time=   0.1s\n",
      "[CV] END ...C=1, coef0=0.5, degree=8, gamma=auto, kernel=rbf; total time=   0.1s\n",
      "[CV] END ...C=1, coef0=0.5, degree=8, gamma=auto, kernel=rbf; total time=   0.1s\n",
      "[CV] END ..C=1, coef0=0.5, degree=8, gamma=scale, kernel=rbf; total time=   0.1s\n",
      "[CV] END C=1, coef0=0.5, degree=8, gamma=scale, kernel=linear; total time=   0.1s\n",
      "[CV] END ..C=1, coef0=0.5, degree=8, gamma=scale, kernel=rbf; total time=   0.1s\n",
      "[CV] END C=1, coef0=0.5, degree=8, gamma=scale, kernel=linear; total time=   0.1s\n",
      "[CV] END C=1, coef0=0.5, degree=8, gamma=scale, kernel=linear; total time=   0.1s\n",
      "[CV] END C=1, coef0=0.5, degree=8, gamma=scale, kernel=linear; total time=   0.1s\n",
      "[CV] END C=1, coef0=0.5, degree=8, gamma=scale, kernel=linear; total time=   0.1s\n",
      "[CV] END ..C=1, coef0=0.5, degree=8, gamma=scale, kernel=rbf; total time=   0.1s\n",
      "[CV] END ..C=1, coef0=0.5, degree=8, gamma=scale, kernel=rbf; total time=   0.1s\n",
      "[CV] END ..C=1, coef0=0.5, degree=8, gamma=scale, kernel=rbf; total time=   0.1s\n",
      "[CV] END ..C=5, coef0=0.01, degree=3, gamma=auto, kernel=rbf; total time=   0.1s\n",
      "[CV] END ..C=5, coef0=0.01, degree=3, gamma=auto, kernel=rbf; total time=   0.1s\n",
      "[CV] END ..C=5, coef0=0.01, degree=3, gamma=auto, kernel=rbf; total time=   0.1s\n",
      "[CV] END ..C=5, coef0=0.01, degree=3, gamma=auto, kernel=rbf; total time=   0.1s\n",
      "[CV] END ..C=5, coef0=0.01, degree=3, gamma=auto, kernel=rbf; total time=   0.1s\n",
      "[CV] END C=5, coef0=0.01, degree=3, gamma=auto, kernel=linear; total time=   0.4s\n",
      "[CV] END C=5, coef0=0.01, degree=3, gamma=auto, kernel=linear; total time=   0.4s\n",
      "[CV] END C=5, coef0=0.01, degree=3, gamma=auto, kernel=linear; total time=   0.4s\n",
      "[CV] END C=5, coef0=0.01, degree=3, gamma=auto, kernel=linear; total time=   0.4s\n",
      "[CV] END C=5, coef0=0.01, degree=3, gamma=auto, kernel=linear; total time=   0.5s\n",
      "[CV] END .C=5, coef0=0.01, degree=3, gamma=scale, kernel=rbf; total time=   0.1s\n",
      "[CV] END .C=5, coef0=0.01, degree=3, gamma=scale, kernel=rbf; total time=   0.1s\n",
      "[CV] END C=5, coef0=0.01, degree=3, gamma=scale, kernel=linear; total time=   0.4s\n",
      "[CV] END .C=5, coef0=0.01, degree=3, gamma=scale, kernel=rbf; total time=   0.1s\n",
      "[CV] END C=5, coef0=0.01, degree=3, gamma=scale, kernel=linear; total time=   0.5s\n",
      "[CV] END .C=5, coef0=0.01, degree=3, gamma=scale, kernel=rbf; total time=   0.1s\n",
      "[CV] END .C=5, coef0=0.01, degree=3, gamma=scale, kernel=rbf; total time=   0.1s\n",
      "[CV] END C=5, coef0=0.01, degree=3, gamma=scale, kernel=linear; total time=   0.4s\n",
      "[CV] END C=5, coef0=0.01, degree=3, gamma=scale, kernel=linear; total time=   0.4s\n",
      "[CV] END C=5, coef0=0.01, degree=3, gamma=scale, kernel=linear; total time=   0.5s\n",
      "[CV] END ..C=5, coef0=0.01, degree=8, gamma=auto, kernel=rbf; total time=   0.1s\n",
      "[CV] END ..C=5, coef0=0.01, degree=8, gamma=auto, kernel=rbf; total time=   0.1s\n",
      "[CV] END C=5, coef0=0.01, degree=8, gamma=auto, kernel=linear; total time=   0.4s\n",
      "[CV] END ..C=5, coef0=0.01, degree=8, gamma=auto, kernel=rbf; total time=   0.2s\n",
      "[CV] END C=5, coef0=0.01, degree=8, gamma=auto, kernel=linear; total time=   0.4s\n",
      "[CV] END ..C=5, coef0=0.01, degree=8, gamma=auto, kernel=rbf; total time=   0.1s\n",
      "[CV] END ..C=5, coef0=0.01, degree=8, gamma=auto, kernel=rbf; total time=   0.1s\n",
      "[CV] END C=5, coef0=0.01, degree=8, gamma=auto, kernel=linear; total time=   0.5s\n",
      "[CV] END C=5, coef0=0.01, degree=8, gamma=auto, kernel=linear; total time=   0.4s\n",
      "[CV] END C=5, coef0=0.01, degree=8, gamma=auto, kernel=linear; total time=   0.4s\n",
      "[CV] END .C=5, coef0=0.01, degree=8, gamma=scale, kernel=rbf; total time=   0.1s\n",
      "[CV] END .C=5, coef0=0.01, degree=8, gamma=scale, kernel=rbf; total time=   0.1s\n",
      "[CV] END .C=5, coef0=0.01, degree=8, gamma=scale, kernel=rbf; total time=   0.1s\n",
      "[CV] END .C=5, coef0=0.01, degree=8, gamma=scale, kernel=rbf; total time=   0.1s\n",
      "[CV] END .C=5, coef0=0.01, degree=8, gamma=scale, kernel=rbf; total time=   0.1s\n",
      "[CV] END C=5, coef0=0.01, degree=8, gamma=scale, kernel=linear; total time=   0.4s\n",
      "[CV] END C=5, coef0=0.01, degree=8, gamma=scale, kernel=linear; total time=   0.4s\n",
      "[CV] END C=5, coef0=0.01, degree=8, gamma=scale, kernel=linear; total time=   0.4s\n",
      "[CV] END C=5, coef0=0.01, degree=8, gamma=scale, kernel=linear; total time=   0.4s\n",
      "[CV] END C=5, coef0=0.01, degree=8, gamma=scale, kernel=linear; total time=   0.4s\n",
      "[CV] END ....C=5, coef0=10, degree=3, gamma=auto, kernel=rbf; total time=   0.1s\n",
      "[CV] END ....C=5, coef0=10, degree=3, gamma=auto, kernel=rbf; total time=   0.1s\n",
      "[CV] END ....C=5, coef0=10, degree=3, gamma=auto, kernel=rbf; total time=   0.1s\n",
      "[CV] END ....C=5, coef0=10, degree=3, gamma=auto, kernel=rbf; total time=   0.1s\n",
      "[CV] END ....C=5, coef0=10, degree=3, gamma=auto, kernel=rbf; total time=   0.1s\n",
      "[CV] END .C=5, coef0=10, degree=3, gamma=auto, kernel=linear; total time=   0.4s\n",
      "[CV] END .C=5, coef0=10, degree=3, gamma=auto, kernel=linear; total time=   0.5s\n",
      "[CV] END .C=5, coef0=10, degree=3, gamma=auto, kernel=linear; total time=   0.5s\n",
      "[CV] END .C=5, coef0=10, degree=3, gamma=auto, kernel=linear; total time=   0.5s\n",
      "[CV] END .C=5, coef0=10, degree=3, gamma=auto, kernel=linear; total time=   0.5s\n",
      "[CV] END ...C=5, coef0=10, degree=3, gamma=scale, kernel=rbf; total time=   0.1s\n",
      "[CV] END ...C=5, coef0=10, degree=3, gamma=scale, kernel=rbf; total time=   0.1s\n",
      "[CV] END C=5, coef0=10, degree=3, gamma=scale, kernel=linear; total time=   0.5s\n",
      "[CV] END ...C=5, coef0=10, degree=3, gamma=scale, kernel=rbf; total time=   0.1s\n",
      "[CV] END ...C=5, coef0=10, degree=3, gamma=scale, kernel=rbf; total time=   0.1s\n",
      "[CV] END C=5, coef0=10, degree=3, gamma=scale, kernel=linear; total time=   0.4s\n",
      "[CV] END ...C=5, coef0=10, degree=3, gamma=scale, kernel=rbf; total time=   0.1s\n",
      "[CV] END C=5, coef0=10, degree=3, gamma=scale, kernel=linear; total time=   0.4s\n",
      "[CV] END C=5, coef0=10, degree=3, gamma=scale, kernel=linear; total time=   0.4s\n",
      "[CV] END C=5, coef0=10, degree=3, gamma=scale, kernel=linear; total time=   0.4s\n",
      "[CV] END ....C=5, coef0=10, degree=8, gamma=auto, kernel=rbf; total time=   0.1s\n",
      "[CV] END ....C=5, coef0=10, degree=8, gamma=auto, kernel=rbf; total time=   0.1s\n",
      "[CV] END ....C=5, coef0=10, degree=8, gamma=auto, kernel=rbf; total time=   0.1s\n",
      "[CV] END .C=5, coef0=10, degree=8, gamma=auto, kernel=linear; total time=   0.4s\n",
      "[CV] END ....C=5, coef0=10, degree=8, gamma=auto, kernel=rbf; total time=   0.1s\n",
      "[CV] END .C=5, coef0=10, degree=8, gamma=auto, kernel=linear; total time=   0.4s\n",
      "[CV] END ....C=5, coef0=10, degree=8, gamma=auto, kernel=rbf; total time=   0.1s\n",
      "[CV] END .C=5, coef0=10, degree=8, gamma=auto, kernel=linear; total time=   0.4s\n",
      "[CV] END .C=5, coef0=10, degree=8, gamma=auto, kernel=linear; total time=   0.4s\n",
      "[CV] END .C=5, coef0=10, degree=8, gamma=auto, kernel=linear; total time=   0.5s\n",
      "[CV] END ...C=5, coef0=10, degree=8, gamma=scale, kernel=rbf; total time=   0.1s\n",
      "[CV] END ...C=5, coef0=10, degree=8, gamma=scale, kernel=rbf; total time=   0.1s\n",
      "[CV] END ...C=5, coef0=10, degree=8, gamma=scale, kernel=rbf; total time=   0.1s\n",
      "[CV] END ...C=5, coef0=10, degree=8, gamma=scale, kernel=rbf; total time=   0.1s\n",
      "[CV] END C=5, coef0=10, degree=8, gamma=scale, kernel=linear; total time=   0.4s\n",
      "[CV] END ...C=5, coef0=10, degree=8, gamma=scale, kernel=rbf; total time=   0.1s\n",
      "[CV] END C=5, coef0=10, degree=8, gamma=scale, kernel=linear; total time=   0.4s\n",
      "[CV] END C=5, coef0=10, degree=8, gamma=scale, kernel=linear; total time=   0.4s\n",
      "[CV] END C=5, coef0=10, degree=8, gamma=scale, kernel=linear; total time=   0.5s\n",
      "[CV] END C=5, coef0=10, degree=8, gamma=scale, kernel=linear; total time=   0.5s\n",
      "[CV] END ...C=5, coef0=0.5, degree=3, gamma=auto, kernel=rbf; total time=   0.1s\n",
      "[CV] END ...C=5, coef0=0.5, degree=3, gamma=auto, kernel=rbf; total time=   0.1s\n",
      "[CV] END ...C=5, coef0=0.5, degree=3, gamma=auto, kernel=rbf; total time=   0.1s\n",
      "[CV] END C=5, coef0=0.5, degree=3, gamma=auto, kernel=linear; total time=   0.4s\n",
      "[CV] END ...C=5, coef0=0.5, degree=3, gamma=auto, kernel=rbf; total time=   0.1s\n",
      "[CV] END ...C=5, coef0=0.5, degree=3, gamma=auto, kernel=rbf; total time=   0.1s\n",
      "[CV] END C=5, coef0=0.5, degree=3, gamma=auto, kernel=linear; total time=   0.5s\n",
      "[CV] END C=5, coef0=0.5, degree=3, gamma=auto, kernel=linear; total time=   0.4s\n",
      "[CV] END C=5, coef0=0.5, degree=3, gamma=auto, kernel=linear; total time=   0.5s\n",
      "[CV] END C=5, coef0=0.5, degree=3, gamma=auto, kernel=linear; total time=   0.4s\n",
      "[CV] END ..C=5, coef0=0.5, degree=3, gamma=scale, kernel=rbf; total time=   0.1s\n",
      "[CV] END ..C=5, coef0=0.5, degree=3, gamma=scale, kernel=rbf; total time=   0.1s\n",
      "[CV] END ..C=5, coef0=0.5, degree=3, gamma=scale, kernel=rbf; total time=   0.1s\n",
      "[CV] END C=5, coef0=0.5, degree=3, gamma=scale, kernel=linear; total time=   0.4s\n",
      "[CV] END C=5, coef0=0.5, degree=3, gamma=scale, kernel=linear; total time=   0.4s\n",
      "[CV] END ..C=5, coef0=0.5, degree=3, gamma=scale, kernel=rbf; total time=   0.1s\n",
      "[CV] END ..C=5, coef0=0.5, degree=3, gamma=scale, kernel=rbf; total time=   0.1s\n",
      "[CV] END C=5, coef0=0.5, degree=3, gamma=scale, kernel=linear; total time=   0.4s\n",
      "[CV] END C=5, coef0=0.5, degree=3, gamma=scale, kernel=linear; total time=   0.4s\n",
      "[CV] END C=5, coef0=0.5, degree=3, gamma=scale, kernel=linear; total time=   0.4s\n",
      "[CV] END ...C=5, coef0=0.5, degree=8, gamma=auto, kernel=rbf; total time=   0.1s\n",
      "[CV] END ...C=5, coef0=0.5, degree=8, gamma=auto, kernel=rbf; total time=   0.1s\n",
      "[CV] END ...C=5, coef0=0.5, degree=8, gamma=auto, kernel=rbf; total time=   0.1s\n",
      "[CV] END ...C=5, coef0=0.5, degree=8, gamma=auto, kernel=rbf; total time=   0.1s\n",
      "[CV] END ...C=5, coef0=0.5, degree=8, gamma=auto, kernel=rbf; total time=   0.1s\n",
      "[CV] END C=5, coef0=0.5, degree=8, gamma=auto, kernel=linear; total time=   0.4s\n",
      "[CV] END C=5, coef0=0.5, degree=8, gamma=auto, kernel=linear; total time=   0.4s\n",
      "[CV] END C=5, coef0=0.5, degree=8, gamma=auto, kernel=linear; total time=   0.4s\n",
      "[CV] END C=5, coef0=0.5, degree=8, gamma=auto, kernel=linear; total time=   0.5s\n",
      "[CV] END C=5, coef0=0.5, degree=8, gamma=auto, kernel=linear; total time=   0.5s\n",
      "[CV] END ..C=5, coef0=0.5, degree=8, gamma=scale, kernel=rbf; total time=   0.1s\n",
      "[CV] END ..C=5, coef0=0.5, degree=8, gamma=scale, kernel=rbf; total time=   0.1s\n",
      "[CV] END ..C=5, coef0=0.5, degree=8, gamma=scale, kernel=rbf; total time=   0.1s\n",
      "[CV] END C=5, coef0=0.5, degree=8, gamma=scale, kernel=linear; total time=   0.4s\n",
      "[CV] END C=5, coef0=0.5, degree=8, gamma=scale, kernel=linear; total time=   0.5s\n",
      "[CV] END ..C=5, coef0=0.5, degree=8, gamma=scale, kernel=rbf; total time=   0.1s\n",
      "[CV] END ..C=5, coef0=0.5, degree=8, gamma=scale, kernel=rbf; total time=   0.1s\n",
      "[CV] END C=5, coef0=0.5, degree=8, gamma=scale, kernel=linear; total time=   0.4s\n",
      "[CV] END C=5, coef0=0.5, degree=8, gamma=scale, kernel=linear; total time=   0.4s\n",
      "[CV] END C=5, coef0=0.5, degree=8, gamma=scale, kernel=linear; total time=   0.5s\n",
      "[CV] END .C=10, coef0=0.01, degree=3, gamma=auto, kernel=rbf; total time=   0.1s\n",
      "[CV] END .C=10, coef0=0.01, degree=3, gamma=auto, kernel=rbf; total time=   0.1s\n",
      "[CV] END .C=10, coef0=0.01, degree=3, gamma=auto, kernel=rbf; total time=   0.1s\n",
      "[CV] END .C=10, coef0=0.01, degree=3, gamma=auto, kernel=rbf; total time=   0.1s\n",
      "[CV] END .C=10, coef0=0.01, degree=3, gamma=auto, kernel=rbf; total time=   0.1s\n",
      "[CV] END C=10, coef0=0.01, degree=3, gamma=auto, kernel=linear; total time=   0.5s\n",
      "[CV] END C=10, coef0=0.01, degree=3, gamma=auto, kernel=linear; total time=   0.7s\n",
      "[CV] END C=10, coef0=0.01, degree=3, gamma=auto, kernel=linear; total time=   0.7s\n",
      "[CV] END C=10, coef0=0.01, degree=3, gamma=auto, kernel=linear; total time=   0.8s\n",
      "[CV] END C=10, coef0=0.01, degree=3, gamma=auto, kernel=linear; total time=   0.8s\n",
      "[CV] END C=10, coef0=0.01, degree=3, gamma=scale, kernel=rbf; total time=   0.1s\n",
      "[CV] END C=10, coef0=0.01, degree=3, gamma=scale, kernel=rbf; total time=   0.1s\n",
      "[CV] END C=10, coef0=0.01, degree=3, gamma=scale, kernel=rbf; total time=   0.1s\n",
      "[CV] END C=10, coef0=0.01, degree=3, gamma=scale, kernel=linear; total time=   0.6s\n",
      "[CV] END C=10, coef0=0.01, degree=3, gamma=scale, kernel=rbf; total time=   0.1s\n",
      "[CV] END C=10, coef0=0.01, degree=3, gamma=scale, kernel=linear; total time=   0.7s\n",
      "[CV] END C=10, coef0=0.01, degree=3, gamma=scale, kernel=rbf; total time=   0.1s\n",
      "[CV] END C=10, coef0=0.01, degree=3, gamma=scale, kernel=linear; total time=   0.7s\n",
      "[CV] END C=10, coef0=0.01, degree=3, gamma=scale, kernel=linear; total time=   0.7s\n",
      "[CV] END C=10, coef0=0.01, degree=3, gamma=scale, kernel=linear; total time=   0.8s\n",
      "[CV] END .C=10, coef0=0.01, degree=8, gamma=auto, kernel=rbf; total time=   0.1s\n",
      "[CV] END .C=10, coef0=0.01, degree=8, gamma=auto, kernel=rbf; total time=   0.1s\n",
      "[CV] END .C=10, coef0=0.01, degree=8, gamma=auto, kernel=rbf; total time=   0.1s\n",
      "[CV] END C=10, coef0=0.01, degree=8, gamma=auto, kernel=linear; total time=   0.6s\n",
      "[CV] END .C=10, coef0=0.01, degree=8, gamma=auto, kernel=rbf; total time=   0.1s\n",
      "[CV] END .C=10, coef0=0.01, degree=8, gamma=auto, kernel=rbf; total time=   0.1s\n",
      "[CV] END C=10, coef0=0.01, degree=8, gamma=auto, kernel=linear; total time=   0.8s\n",
      "[CV] END C=10, coef0=0.01, degree=8, gamma=auto, kernel=linear; total time=   0.8s\n",
      "[CV] END C=10, coef0=0.01, degree=8, gamma=auto, kernel=linear; total time=   0.7s\n",
      "[CV] END C=10, coef0=0.01, degree=8, gamma=auto, kernel=linear; total time=   0.8s\n",
      "[CV] END C=10, coef0=0.01, degree=8, gamma=scale, kernel=rbf; total time=   0.1s\n",
      "[CV] END C=10, coef0=0.01, degree=8, gamma=scale, kernel=rbf; total time=   0.1s\n",
      "[CV] END C=10, coef0=0.01, degree=8, gamma=scale, kernel=rbf; total time=   0.1s\n",
      "[CV] END C=10, coef0=0.01, degree=8, gamma=scale, kernel=rbf; total time=   0.1s\n",
      "[CV] END C=10, coef0=0.01, degree=8, gamma=scale, kernel=rbf; total time=   0.1s\n",
      "[CV] END C=10, coef0=0.01, degree=8, gamma=scale, kernel=linear; total time=   0.6s\n",
      "[CV] END C=10, coef0=0.01, degree=8, gamma=scale, kernel=linear; total time=   0.7s\n",
      "[CV] END C=10, coef0=0.01, degree=8, gamma=scale, kernel=linear; total time=   0.7s\n",
      "[CV] END C=10, coef0=0.01, degree=8, gamma=scale, kernel=linear; total time=   0.7s\n",
      "[CV] END C=10, coef0=0.01, degree=8, gamma=scale, kernel=linear; total time=   0.8s\n",
      "[CV] END ...C=10, coef0=10, degree=3, gamma=auto, kernel=rbf; total time=   0.1s\n",
      "[CV] END ...C=10, coef0=10, degree=3, gamma=auto, kernel=rbf; total time=   0.1s\n",
      "[CV] END ...C=10, coef0=10, degree=3, gamma=auto, kernel=rbf; total time=   0.1s\n",
      "[CV] END ...C=10, coef0=10, degree=3, gamma=auto, kernel=rbf; total time=   0.2s\n",
      "[CV] END ...C=10, coef0=10, degree=3, gamma=auto, kernel=rbf; total time=   0.1s\n",
      "[CV] END C=10, coef0=10, degree=3, gamma=auto, kernel=linear; total time=   0.6s\n",
      "[CV] END C=10, coef0=10, degree=3, gamma=auto, kernel=linear; total time=   0.8s\n",
      "[CV] END C=10, coef0=10, degree=3, gamma=auto, kernel=linear; total time=   0.7s\n",
      "[CV] END C=10, coef0=10, degree=3, gamma=auto, kernel=linear; total time=   0.8s\n",
      "[CV] END C=10, coef0=10, degree=3, gamma=auto, kernel=linear; total time=   0.7s\n",
      "[CV] END ..C=10, coef0=10, degree=3, gamma=scale, kernel=rbf; total time=   0.1s\n",
      "[CV] END ..C=10, coef0=10, degree=3, gamma=scale, kernel=rbf; total time=   0.1s\n",
      "[CV] END ..C=10, coef0=10, degree=3, gamma=scale, kernel=rbf; total time=   0.1s\n",
      "[CV] END C=10, coef0=10, degree=3, gamma=scale, kernel=linear; total time=   0.6s\n",
      "[CV] END ..C=10, coef0=10, degree=3, gamma=scale, kernel=rbf; total time=   0.1s\n",
      "[CV] END ..C=10, coef0=10, degree=3, gamma=scale, kernel=rbf; total time=   0.1s\n",
      "[CV] END C=10, coef0=10, degree=3, gamma=scale, kernel=linear; total time=   0.8s\n",
      "[CV] END C=10, coef0=10, degree=3, gamma=scale, kernel=linear; total time=   0.7s\n",
      "[CV] END C=10, coef0=10, degree=3, gamma=scale, kernel=linear; total time=   0.7s\n",
      "[CV] END C=10, coef0=10, degree=3, gamma=scale, kernel=linear; total time=   0.7s\n",
      "[CV] END ...C=10, coef0=10, degree=8, gamma=auto, kernel=rbf; total time=   0.1s\n",
      "[CV] END ...C=10, coef0=10, degree=8, gamma=auto, kernel=rbf; total time=   0.1s\n",
      "[CV] END ...C=10, coef0=10, degree=8, gamma=auto, kernel=rbf; total time=   0.1s\n",
      "[CV] END ...C=10, coef0=10, degree=8, gamma=auto, kernel=rbf; total time=   0.1s\n",
      "[CV] END ...C=10, coef0=10, degree=8, gamma=auto, kernel=rbf; total time=   0.2s\n",
      "[CV] END C=10, coef0=10, degree=8, gamma=auto, kernel=linear; total time=   0.6s\n",
      "[CV] END C=10, coef0=10, degree=8, gamma=auto, kernel=linear; total time=   0.6s\n",
      "[CV] END C=10, coef0=10, degree=8, gamma=auto, kernel=linear; total time=   0.7s\n",
      "[CV] END C=10, coef0=10, degree=8, gamma=auto, kernel=linear; total time=   0.8s\n",
      "[CV] END ..C=10, coef0=10, degree=8, gamma=scale, kernel=rbf; total time=   0.1s\n",
      "[CV] END C=10, coef0=10, degree=8, gamma=auto, kernel=linear; total time=   0.8s\n",
      "[CV] END ..C=10, coef0=10, degree=8, gamma=scale, kernel=rbf; total time=   0.1s\n",
      "[CV] END ..C=10, coef0=10, degree=8, gamma=scale, kernel=rbf; total time=   0.1s\n",
      "[CV] END C=10, coef0=10, degree=8, gamma=scale, kernel=linear; total time=   0.5s\n",
      "[CV] END ..C=10, coef0=10, degree=8, gamma=scale, kernel=rbf; total time=   0.1s\n",
      "[CV] END ..C=10, coef0=10, degree=8, gamma=scale, kernel=rbf; total time=   0.1s\n",
      "[CV] END C=10, coef0=10, degree=8, gamma=scale, kernel=linear; total time=   0.8s\n",
      "[CV] END C=10, coef0=10, degree=8, gamma=scale, kernel=linear; total time=   0.7s\n",
      "[CV] END C=10, coef0=10, degree=8, gamma=scale, kernel=linear; total time=   0.7s\n",
      "[CV] END C=10, coef0=10, degree=8, gamma=scale, kernel=linear; total time=   0.8s\n",
      "[CV] END ..C=10, coef0=0.5, degree=3, gamma=auto, kernel=rbf; total time=   0.1s\n",
      "[CV] END ..C=10, coef0=0.5, degree=3, gamma=auto, kernel=rbf; total time=   0.1s\n",
      "[CV] END ..C=10, coef0=0.5, degree=3, gamma=auto, kernel=rbf; total time=   0.1s\n",
      "[CV] END ..C=10, coef0=0.5, degree=3, gamma=auto, kernel=rbf; total time=   0.1s\n",
      "[CV] END C=10, coef0=0.5, degree=3, gamma=auto, kernel=linear; total time=   0.6s\n",
      "[CV] END ..C=10, coef0=0.5, degree=3, gamma=auto, kernel=rbf; total time=   0.1s\n",
      "[CV] END C=10, coef0=0.5, degree=3, gamma=auto, kernel=linear; total time=   0.7s\n",
      "[CV] END C=10, coef0=0.5, degree=3, gamma=auto, kernel=linear; total time=   0.7s\n",
      "[CV] END C=10, coef0=0.5, degree=3, gamma=auto, kernel=linear; total time=   0.7s\n",
      "[CV] END C=10, coef0=0.5, degree=3, gamma=auto, kernel=linear; total time=   0.9s\n",
      "[CV] END .C=10, coef0=0.5, degree=3, gamma=scale, kernel=rbf; total time=   0.2s\n",
      "[CV] END .C=10, coef0=0.5, degree=3, gamma=scale, kernel=rbf; total time=   0.2s\n",
      "[CV] END .C=10, coef0=0.5, degree=3, gamma=scale, kernel=rbf; total time=   0.1s\n",
      "[CV] END C=10, coef0=0.5, degree=3, gamma=scale, kernel=linear; total time=   0.6s\n",
      "[CV] END .C=10, coef0=0.5, degree=3, gamma=scale, kernel=rbf; total time=   0.1s\n",
      "[CV] END .C=10, coef0=0.5, degree=3, gamma=scale, kernel=rbf; total time=   0.1s\n",
      "[CV] END C=10, coef0=0.5, degree=3, gamma=scale, kernel=linear; total time=   0.8s\n",
      "[CV] END C=10, coef0=0.5, degree=3, gamma=scale, kernel=linear; total time=   0.8s\n",
      "[CV] END C=10, coef0=0.5, degree=3, gamma=scale, kernel=linear; total time=   0.7s\n",
      "[CV] END C=10, coef0=0.5, degree=3, gamma=scale, kernel=linear; total time=   0.7s\n",
      "[CV] END ..C=10, coef0=0.5, degree=8, gamma=auto, kernel=rbf; total time=   0.1s\n",
      "[CV] END ..C=10, coef0=0.5, degree=8, gamma=auto, kernel=rbf; total time=   0.1s\n",
      "[CV] END ..C=10, coef0=0.5, degree=8, gamma=auto, kernel=rbf; total time=   0.1s\n",
      "[CV] END ..C=10, coef0=0.5, degree=8, gamma=auto, kernel=rbf; total time=   0.2s\n",
      "[CV] END ..C=10, coef0=0.5, degree=8, gamma=auto, kernel=rbf; total time=   0.2s\n",
      "[CV] END C=10, coef0=0.5, degree=8, gamma=auto, kernel=linear; total time=   0.7s\n",
      "[CV] END C=10, coef0=0.5, degree=8, gamma=auto, kernel=linear; total time=   0.8s\n",
      "[CV] END C=10, coef0=0.5, degree=8, gamma=auto, kernel=linear; total time=   0.8s\n",
      "[CV] END C=10, coef0=0.5, degree=8, gamma=auto, kernel=linear; total time=   0.9s\n",
      "[CV] END C=10, coef0=0.5, degree=8, gamma=auto, kernel=linear; total time=   0.9s\n",
      "[CV] END .C=10, coef0=0.5, degree=8, gamma=scale, kernel=rbf; total time=   0.2s\n",
      "[CV] END .C=10, coef0=0.5, degree=8, gamma=scale, kernel=rbf; total time=   0.1s\n",
      "[CV] END .C=10, coef0=0.5, degree=8, gamma=scale, kernel=rbf; total time=   0.1s\n",
      "[CV] END .C=10, coef0=0.5, degree=8, gamma=scale, kernel=rbf; total time=   0.1s\n",
      "[CV] END C=10, coef0=0.5, degree=8, gamma=scale, kernel=linear; total time=   0.7s\n",
      "[CV] END .C=10, coef0=0.5, degree=8, gamma=scale, kernel=rbf; total time=   0.1s\n",
      "[CV] END C=10, coef0=0.5, degree=8, gamma=scale, kernel=linear; total time=   0.7s\n",
      "[CV] END C=10, coef0=0.5, degree=8, gamma=scale, kernel=linear; total time=   0.7s\n",
      "[CV] END C=10, coef0=0.5, degree=8, gamma=scale, kernel=linear; total time=   0.7s\n",
      "[CV] END C=10, coef0=0.5, degree=8, gamma=scale, kernel=linear; total time=   0.6s\n",
      "\n",
      " Meilleur paramètre = {'C': 5, 'coef0': 0.01, 'degree': 3, 'gamma': 'auto', 'kernel': 'rbf'}\n",
      "\n",
      "=== La performnce du modèle : SVR ===\n",
      " R2 = 0.738735,\n",
      " RMSE = 0.7233346513688045\n"
     ]
    }
   ],
   "source": [
    "from sklearn.model_selection import GridSearchCV\n",
    "from sklearn.svm import SVR\n",
    "# grille de valeurs du paramètre à optimiser\n",
    "param = {'kernel' : ('linear','rbf'),'C' : [1,5,10],'degree' : [3,8],'coef0' : [0.01,10,0.5],'gamma' : ('auto','scale')},\n",
    "model_SVR = SVR()\n",
    "regSVR = GridSearchCV(estimator = model_SVR, param_grid = param,  cv = 5, n_jobs = -1, verbose = 2)\n",
    "\n",
    "regSVROpt = regSVR.fit(X_train,y_train)\n",
    "\n",
    "# paramètre optimal\n",
    "print(\"\\n Meilleur paramètre =\", regSVROpt.best_params_)\n",
    "\n",
    "# Prévision de l'échantillon de test\n",
    "predSVROpt =regSVROpt.predict( X_test)\n",
    "\n",
    "# Performence du modèle\n",
    "print(\"\\n=== La performnce du modèle : SVR ===\")\n",
    "print(\" R2 = %f,\\n RMSE = %s\" % (regSVROpt.best_score_, np.sqrt(mean_squared_error(y_test, predSVROpt))))"
   ]
  },
  {
   "cell_type": "markdown",
   "metadata": {},
   "source": [
    "<span style=\"color: #008080\"> @ RandomForestRegression : `GridSearchCV` \n",
    "-\n",
    " </span>"
   ]
  },
  {
   "cell_type": "code",
   "execution_count": 127,
   "metadata": {},
   "outputs": [
    {
     "name": "stdout",
     "output_type": "stream",
     "text": [
      "-0.3703408108295149 \n",
      " Les meilleurs paramètres : {'bootstrap': True, 'max_depth': 10, 'max_features': 'auto', 'n_estimators': 60}\n",
      " R2 = 0.841738, \n",
      " RMSE = 0.5757233516733602\n",
      " RMSE_normal = 481.8769508848258\n"
     ]
    }
   ],
   "source": [
    "from sklearn.ensemble import RandomForestRegressor\n",
    "estimator = RandomForestRegressor()\n",
    "para_grids = {\n",
    "            \"n_estimators\" : [10,50,60],\n",
    "            \"max_features\" : [\"auto\", \"log2\", \"sqrt\"],\n",
    "            \"bootstrap\"    : [True, False],\n",
    "            \"max_depth\" : [6,8,10, 12]\n",
    "        }\n",
    "\n",
    "\n",
    "grid = GridSearchCV(estimator, para_grids,cv=5, scoring = 'neg_mean_squared_error')\n",
    "grid.fit(X_train, y_train)\n",
    "forest = grid.best_estimator_\n",
    "\n",
    "# Prévision de l'échantillon de test\n",
    "reg_prediction=forest.predict(X_test)\n",
    "\n",
    "print (grid.best_score_, \"\\n Les meilleurs paramètres :\", grid.best_params_)\n",
    "print(\" R2 = %f, \\n RMSE = %s\" % (r2_score(y_test, reg_prediction),np.sqrt(mean_squared_error(y_test, reg_prediction))))\n",
    "print(\" RMSE_normal = %s\" % (np.sqrt(mean_squared_error(np.exp(y_test), np.exp(reg_prediction)))))"
   ]
  },
  {
   "cell_type": "markdown",
   "metadata": {},
   "source": [
    "<span style=\"color: #008080\"> @ RandomForestRegression : \n",
    "- On affiche les features selon l'ordre d'importance décroissant.\n",
    " </span>"
   ]
  },
  {
   "cell_type": "code",
   "execution_count": 128,
   "metadata": {},
   "outputs": [
    {
     "data": {
      "text/plain": [
       "Electricity(percentage)     0.334800\n",
       "PropertyGFATotal            0.318496\n",
       "PropertyGFABuilding(s)      0.162701\n",
       "ENERGYSTARScore             0.068282\n",
       "Latitude                    0.023579\n",
       "NumberofFloors              0.021432\n",
       "Longitude                   0.020388\n",
       "NaturalGas(percentage)      0.017921\n",
       "YearBuilt                   0.017568\n",
       "PropertyGFAParking          0.003216\n",
       "CouncilDistrictCode_1       0.002273\n",
       "CouncilDistrictCode_2       0.001599\n",
       "CouncilDistrictCode_4       0.001546\n",
       "SteamUse(percentage)        0.001544\n",
       "CouncilDistrictCode_7       0.001334\n",
       "CouncilDistrictCode_3       0.001147\n",
       "CouncilDistrictCode_6       0.001125\n",
       "CouncilDistrictCode_5       0.001039\n",
       "OtherFuelUse(percentage)    0.000009\n",
       "NumberofBuildings           0.000000\n",
       "dtype: float64"
      ]
     },
     "execution_count": 128,
     "metadata": {},
     "output_type": "execute_result"
    }
   ],
   "source": [
    "importance = pd.Series(forest.feature_importances_, X_train.columns)\n",
    "importance.sort_values(ascending=False)"
   ]
  },
  {
   "cell_type": "markdown",
   "metadata": {},
   "source": [
    "### @ Conclusion: \n",
    "Le modèle le plus performant pour prédire les émissions de CO2 avec le \"EnergyStarScore\" est le modèle `RandomForestRegression` avec r2 = 0.8417 et rmse = 0.5757.\n",
    "\n",
    " </span>"
   ]
  }
 ],
 "metadata": {
  "interpreter": {
   "hash": "31f2aee4e71d21fbe5cf8b01ff0e069b9275f58929596ceb00d14d90e3e16cd6"
  },
  "kernelspec": {
   "display_name": "Python 3.8.10 64-bit",
   "language": "python",
   "name": "python3"
  },
  "language_info": {
   "codemirror_mode": {
    "name": "ipython",
    "version": 3
   },
   "file_extension": ".py",
   "mimetype": "text/x-python",
   "name": "python",
   "nbconvert_exporter": "python",
   "pygments_lexer": "ipython3",
   "version": "3.8.10"
  },
  "orig_nbformat": 4
 },
 "nbformat": 4,
 "nbformat_minor": 2
}
